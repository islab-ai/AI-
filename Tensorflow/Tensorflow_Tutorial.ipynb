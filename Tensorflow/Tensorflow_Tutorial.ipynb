{
 "cells": [
  {
   "cell_type": "markdown",
   "id": "da694ad1-bf01-49de-81c3-89c2eae99808",
   "metadata": {},
   "source": [
    "# I. List"
   ]
  },
  {
   "cell_type": "markdown",
   "id": "b1c47051-9219-42c6-8af8-9e63129ad537",
   "metadata": {},
   "source": [
    "## List Slicing"
   ]
  },
  {
   "cell_type": "markdown",
   "id": "9249b915-9f39-41fd-ab70-668b83bae05a",
   "metadata": {},
   "source": [
    "- 여러 개의 element 선택하는 방법"
   ]
  },
  {
   "cell_type": "code",
   "execution_count": 1,
   "id": "ffb7211c-c770-4e9e-8bdd-c229b95509d2",
   "metadata": {},
   "outputs": [
    {
     "name": "stdout",
     "output_type": "stream",
     "text": [
      "[[0, 1, 2, 3, 4, 5], [6, 7, 8, 9, 10], [11, 12, 13, 14, 15]]\n"
     ]
    }
   ],
   "source": [
    "lst1 = [[0,1,2,3,4,5],[6,7,8,9,10],[11,12,13,14,15]]\n",
    "print(lst1)"
   ]
  },
  {
   "cell_type": "markdown",
   "id": "bc762df0-831e-4585-af75-78e7c67fd69a",
   "metadata": {},
   "source": [
    "### Lst1에서 세번째 List 뽑아내기 [11,12,13,14,15]"
   ]
  },
  {
   "cell_type": "code",
   "execution_count": 2,
   "id": "bed0f740-5e16-41ce-9100-e57b820e372e",
   "metadata": {},
   "outputs": [
    {
     "data": {
      "text/plain": [
       "[11, 12, 13, 14, 15]"
      ]
     },
     "execution_count": 2,
     "metadata": {},
     "output_type": "execute_result"
    }
   ],
   "source": [
    "lst1[2]"
   ]
  },
  {
   "cell_type": "markdown",
   "id": "d0176dd9-e4ec-422d-bd3c-f6f5451758f9",
   "metadata": {},
   "source": [
    "### Lst1에서 세번째 List의 2,3번째 element(12,13) 뽑아내기"
   ]
  },
  {
   "cell_type": "code",
   "execution_count": 3,
   "id": "b6576a9b-5318-49d8-bb72-625c032c466c",
   "metadata": {},
   "outputs": [
    {
     "data": {
      "text/plain": [
       "[12, 13]"
      ]
     },
     "execution_count": 3,
     "metadata": {},
     "output_type": "execute_result"
    }
   ],
   "source": [
    "lst1[2][1:3]"
   ]
  },
  {
   "cell_type": "markdown",
   "id": "da7d0a63-e802-45e2-909f-2a6dbc4765fd",
   "metadata": {},
   "source": [
    "### ★ 해보기 : 다음 lst2에서 4번째 List의 1,2,3,4번째 element 뽑아 내보기"
   ]
  },
  {
   "cell_type": "code",
   "execution_count": 4,
   "id": "e1ef584d-a3b1-406f-ba59-4f6081ab79d3",
   "metadata": {},
   "outputs": [],
   "source": [
    "lst2 = [[123,454,635,23,61],[163,773,354,788,2],[176,755,332,464,212],[808,543,211,537,489],[125,734,2,455,100]]"
   ]
  },
  {
   "cell_type": "code",
   "execution_count": null,
   "id": "723bf59b-fac9-4f8b-a665-c5a8aeb65f22",
   "metadata": {},
   "outputs": [],
   "source": []
  },
  {
   "cell_type": "markdown",
   "id": "fd984612-c1dd-4c53-9f00-9d9888523a43",
   "metadata": {},
   "source": [
    "## List Append: app.append(X)"
   ]
  },
  {
   "cell_type": "markdown",
   "id": "0708eac4-ca37-4af4-ab78-e3fb9765119d",
   "metadata": {},
   "source": [
    "- list app의 마지막에 list X를 추가하는 함수 "
   ]
  },
  {
   "cell_type": "code",
   "execution_count": 5,
   "id": "da8b5f2d-2732-499a-8bcb-9f42f539e511",
   "metadata": {},
   "outputs": [
    {
     "name": "stdout",
     "output_type": "stream",
     "text": [
      "[]\n"
     ]
    }
   ],
   "source": [
    "app = [] ## 빈 리스트를 먼저 선언해 줘야함\n",
    "print(app)"
   ]
  },
  {
   "cell_type": "code",
   "execution_count": 6,
   "id": "1402eddc-00c6-431e-8b19-f49a87521247",
   "metadata": {},
   "outputs": [
    {
     "name": "stdout",
     "output_type": "stream",
     "text": [
      "[[0, 1, 2, 3, 4, 5]]\n"
     ]
    }
   ],
   "source": [
    "X = [0,1,2,3,4,5]\n",
    "app.append(X)\n",
    "print(app)"
   ]
  },
  {
   "cell_type": "markdown",
   "id": "b8635846-490f-4c9b-8d6f-0450e4da48cd",
   "metadata": {},
   "source": [
    "### ★ 해보기 : append를 통해 lst2를 만들어보기"
   ]
  },
  {
   "cell_type": "code",
   "execution_count": 7,
   "id": "a0fd7c9a-732b-4cac-9708-2f1359940215",
   "metadata": {},
   "outputs": [],
   "source": [
    "lst2 = []\n",
    "\n",
    "ele1 = [123,454,635,23,61]\n",
    "ele2 = [163,773,354,788,2]\n",
    "ele3 = [176,755,332,464,212]\n",
    "ele4 = [808,543,211,537,489]\n",
    "ele5 = [125,734,2,455,100]"
   ]
  },
  {
   "cell_type": "code",
   "execution_count": null,
   "id": "7d20a1b5-75a3-4948-9d7a-2ace133a25fd",
   "metadata": {},
   "outputs": [],
   "source": []
  },
  {
   "cell_type": "markdown",
   "id": "f27cfae6-6425-43bb-aa2d-8b24b959eb58",
   "metadata": {},
   "source": [
    "## List Extend: app.extend(X)"
   ]
  },
  {
   "cell_type": "markdown",
   "id": "419ba84a-e89c-4f96-93e2-5c75eae11ed5",
   "metadata": {},
   "source": [
    "- list app에 list X의 element를 추가하는 함수"
   ]
  },
  {
   "cell_type": "code",
   "execution_count": 8,
   "id": "8f8f6256-76e5-45a2-9675-38423228b856",
   "metadata": {},
   "outputs": [
    {
     "name": "stdout",
     "output_type": "stream",
     "text": [
      "[]\n"
     ]
    }
   ],
   "source": [
    "app = [] ## 빈 리스트를 먼저 선언해 줘야함\n",
    "print(app)"
   ]
  },
  {
   "cell_type": "code",
   "execution_count": 9,
   "id": "85e92122-6d7f-4a7b-ad33-0f44402ec450",
   "metadata": {},
   "outputs": [
    {
     "name": "stdout",
     "output_type": "stream",
     "text": [
      "[0, 1, 2, 3, 4, 5]\n"
     ]
    }
   ],
   "source": [
    "X = [0,1,2,3,4,5]\n",
    "app.extend(X)\n",
    "print(app)"
   ]
  },
  {
   "cell_type": "markdown",
   "id": "f5cf42c0-a2d7-4a41-bda6-4e04a1b1b760",
   "metadata": {},
   "source": [
    "## set 함수 : set(list)"
   ]
  },
  {
   "cell_type": "markdown",
   "id": "5cf20c56-cb6f-4e80-8e5f-6acdfda7e94d",
   "metadata": {},
   "source": [
    "- 리스트 내부 중복 element를 제거하는 함수"
   ]
  },
  {
   "cell_type": "code",
   "execution_count": 10,
   "id": "f22a6e05-60c9-48c2-afff-5faf6c1dd30e",
   "metadata": {},
   "outputs": [
    {
     "name": "stdout",
     "output_type": "stream",
     "text": [
      "[1, 1, 1, 2, 3]\n"
     ]
    }
   ],
   "source": [
    "X = [1,1,1,2,3]\n",
    "print(X)"
   ]
  },
  {
   "cell_type": "code",
   "execution_count": 11,
   "id": "a1165cc3-a09b-4696-9356-9100e7f9441a",
   "metadata": {},
   "outputs": [
    {
     "name": "stdout",
     "output_type": "stream",
     "text": [
      "{1, 2, 3}\n",
      "[1, 2, 3]\n"
     ]
    }
   ],
   "source": [
    "processed_X = set(X)\n",
    "print(processed_X)\n",
    "print(list(processed_X))"
   ]
  },
  {
   "cell_type": "markdown",
   "id": "be91afdb-14d0-42a6-92f5-1ccf378ea27b",
   "metadata": {},
   "source": [
    "# II. Tensorflow"
   ]
  },
  {
   "cell_type": "code",
   "execution_count": 12,
   "id": "fa0267c5-3100-4942-b6f6-e9143ecdbf10",
   "metadata": {},
   "outputs": [],
   "source": [
    "import tensorflow as tf"
   ]
  },
  {
   "cell_type": "markdown",
   "id": "6eed35d2-44df-4d88-be5a-bfb3e779fc00",
   "metadata": {},
   "source": [
    "## tf.constant(value, dtype=None, shape=None, name='Const')"
   ]
  },
  {
   "cell_type": "markdown",
   "id": "984d9930-a79a-4308-aae8-875d49598fe4",
   "metadata": {},
   "source": [
    "- 상수 혹은 배열을 통해 tensor를 생성하기 위한 함수\n",
    "- value : 출력 유형의 상수값 리스트\n",
    "- dtype : value의 자료형을 결정, None 입력시 value에 맞게 자동지정\n",
    "- shape : 생성될 tensor의 shape를 결정, None 입력시 value에 맞게 자동지정\n",
    "- name : 해당 Tensor의 고유 이름 부여\n"
   ]
  },
  {
   "cell_type": "code",
   "execution_count": 13,
   "id": "7d030413-41e1-4af8-93b5-473f17288ea9",
   "metadata": {},
   "outputs": [
    {
     "name": "stdout",
     "output_type": "stream",
     "text": [
      "tf.Tensor([0 1 2 3 4], shape=(5,), dtype=int32)\n"
     ]
    }
   ],
   "source": [
    "new_tensor = tf.constant([0,1,2,3,4])\n",
    "print(new_tensor)"
   ]
  },
  {
   "cell_type": "code",
   "execution_count": 14,
   "id": "876a9d57-216f-4a96-b393-6a70c317abaf",
   "metadata": {},
   "outputs": [
    {
     "name": "stdout",
     "output_type": "stream",
     "text": [
      "tf.Tensor([0. 1. 2. 3. 4.], shape=(5,), dtype=float32)\n"
     ]
    }
   ],
   "source": [
    "new_tensor = tf.constant([0,1,2,3,4], dtype=float)\n",
    "print(new_tensor)"
   ]
  },
  {
   "cell_type": "code",
   "execution_count": 15,
   "id": "fe053908-ad90-481f-8ed8-cfcec5e959af",
   "metadata": {},
   "outputs": [
    {
     "name": "stdout",
     "output_type": "stream",
     "text": [
      "tf.Tensor(\n",
      "[[0]\n",
      " [1]\n",
      " [2]\n",
      " [3]\n",
      " [4]], shape=(5, 1), dtype=int32)\n"
     ]
    }
   ],
   "source": [
    "new_tensor = tf.constant([0,1,2,3,4], shape = [5,1])\n",
    "print(new_tensor)"
   ]
  },
  {
   "cell_type": "markdown",
   "id": "48c929d0-adb1-4ddb-b246-1b60e040e856",
   "metadata": {},
   "source": [
    "### ★ 해보기 : shape = [3, 3]이고 'hello'로 채워진 tensor 생성해보기"
   ]
  },
  {
   "cell_type": "markdown",
   "id": "e128d479-d42d-4214-b7c4-5f4841ceca23",
   "metadata": {},
   "source": [
    "- Hint : dtype = tf.dtypes.string 사용하기"
   ]
  },
  {
   "cell_type": "code",
   "execution_count": null,
   "id": "b8535e0f-973f-4886-9f89-459207de5407",
   "metadata": {},
   "outputs": [],
   "source": []
  },
  {
   "cell_type": "markdown",
   "id": "bda91ece-fdf8-46f9-b685-a1c46736b64e",
   "metadata": {},
   "source": [
    "## tf.random.set_seed(seed_num)"
   ]
  },
  {
   "cell_type": "markdown",
   "id": "13e5818d-d65f-4bfb-b3c7-52894e6a0d68",
   "metadata": {},
   "source": [
    "- tensorflow에서 사용될 랜덤 시드를 전역적으로 설정하는 함수\n",
    "- seed_num : 전역적으로 설정될 시드 수"
   ]
  },
  {
   "cell_type": "code",
   "execution_count": 16,
   "id": "f7d0915d-9bc8-4acc-a5dc-050f9cb0f233",
   "metadata": {},
   "outputs": [],
   "source": [
    "SEED_NUM = 1234\n",
    "tf.random.set_seed(SEED_NUM)"
   ]
  },
  {
   "cell_type": "markdown",
   "id": "e391e344-7364-484e-a3c3-aa150e76fbf6",
   "metadata": {},
   "source": [
    "## tf.zeros(shape, dtype = tf.dtyps.float32, name=None)"
   ]
  },
  {
   "cell_type": "markdown",
   "id": "dddc5ae7-fa61-4adc-8724-7c6a9fcf5cb5",
   "metadata": {},
   "source": [
    "- 입력되는 shape에 따라 0으로 채워진 tensor를 생성하는 함수\n",
    "- shape : 생성하기 원하는 출력의 shape\n",
    "- dtype : 출력 tensor의 자료형, default값으로 float32 사용"
   ]
  },
  {
   "cell_type": "code",
   "execution_count": 17,
   "id": "703be565-8443-4269-b8c5-9d489aac4881",
   "metadata": {},
   "outputs": [
    {
     "name": "stdout",
     "output_type": "stream",
     "text": [
      "tf.Tensor(\n",
      "[[0. 0. 0.]\n",
      " [0. 0. 0.]], shape=(2, 3), dtype=float32)\n"
     ]
    }
   ],
   "source": [
    "shape = [2,3]\n",
    "zero_tensor = tf.zeros(shape)\n",
    "print(zero_tensor)"
   ]
  },
  {
   "cell_type": "code",
   "execution_count": 18,
   "id": "ceda896b-5d45-45e1-8f7d-62f06501a715",
   "metadata": {},
   "outputs": [
    {
     "name": "stdout",
     "output_type": "stream",
     "text": [
      "tf.Tensor(\n",
      "[[0 0 0 0 0]\n",
      " [0 0 0 0 0]\n",
      " [0 0 0 0 0]], shape=(3, 5), dtype=int32)\n"
     ]
    }
   ],
   "source": [
    "shape = [3,5]\n",
    "zero_tensor = tf.zeros(shape, dtype = tf.dtypes.int32)\n",
    "print(zero_tensor)"
   ]
  },
  {
   "cell_type": "markdown",
   "id": "53e58e20-159b-446a-9ebc-888aa8cd79c9",
   "metadata": {},
   "source": [
    "### ★ 해보기 tf.contant를 사용해 다음 shape와 일치하는 tf.zeros([shape]) 생성해보기"
   ]
  },
  {
   "cell_type": "code",
   "execution_count": 19,
   "id": "61734e8f-6090-407f-9a99-6a3a5631809c",
   "metadata": {},
   "outputs": [],
   "source": [
    "shape = [2,5]"
   ]
  },
  {
   "cell_type": "code",
   "execution_count": null,
   "id": "f0155bfa-43f2-4029-bab0-4e7910e97fc5",
   "metadata": {},
   "outputs": [],
   "source": []
  },
  {
   "cell_type": "markdown",
   "id": "c57f2068-ed87-463b-ab2d-1efaa122f412",
   "metadata": {},
   "source": [
    "## tf.concat(values, axis, name=None)"
   ]
  },
  {
   "cell_type": "markdown",
   "id": "4da5db62-18fe-4542-87d1-f1b4872bab36",
   "metadata": {},
   "source": [
    "- axis에 따라 입력 list values의 내부 텐서들을 연결하는 함수"
   ]
  },
  {
   "cell_type": "code",
   "execution_count": 20,
   "id": "338bb07f-9205-4f17-a563-d935f6734ce7",
   "metadata": {},
   "outputs": [],
   "source": [
    "tensor_a = tf.constant([9,5,0,5,1,1], dtype=tf.dtypes.int32, shape=[2,3])\n",
    "tensor_b = tf.constant([0,0,1,2,2,5], dtype=tf.dtypes.int32, shape=[2,3])"
   ]
  },
  {
   "cell_type": "code",
   "execution_count": 21,
   "id": "109742e4-20d6-4123-8581-8eac18f673d8",
   "metadata": {},
   "outputs": [],
   "source": [
    "values = [tensor_a, tensor_b]"
   ]
  },
  {
   "cell_type": "code",
   "execution_count": 22,
   "id": "de4ba3d5-0c86-4482-8f88-b95d89de5b16",
   "metadata": {},
   "outputs": [
    {
     "name": "stdout",
     "output_type": "stream",
     "text": [
      "tensor a : \n",
      "[[9 5 0]\n",
      " [5 1 1]]\n",
      "tensor b : \n",
      "[[0 0 1]\n",
      " [2 2 5]]\n"
     ]
    }
   ],
   "source": [
    "print(f\"tensor a : \\n{tensor_a.numpy()}\")\n",
    "print(f\"tensor b : \\n{tensor_b.numpy()}\")"
   ]
  },
  {
   "cell_type": "code",
   "execution_count": 23,
   "id": "50ca9f50-bfa2-4a85-b5be-2c284387fda5",
   "metadata": {},
   "outputs": [
    {
     "name": "stdout",
     "output_type": "stream",
     "text": [
      "tf.Tensor(\n",
      "[[9 5 0]\n",
      " [5 1 1]\n",
      " [0 0 1]\n",
      " [2 2 5]], shape=(4, 3), dtype=int32)\n"
     ]
    }
   ],
   "source": [
    "axis0_concat = tf.concat(values, axis=0)\n",
    "print(axis0_concat)"
   ]
  },
  {
   "cell_type": "code",
   "execution_count": 24,
   "id": "73a3fc1b-518a-4d0d-afda-a0098aa347dc",
   "metadata": {},
   "outputs": [
    {
     "name": "stdout",
     "output_type": "stream",
     "text": [
      "tf.Tensor(\n",
      "[[9 5 0 0 0 1]\n",
      " [5 1 1 2 2 5]], shape=(2, 6), dtype=int32)\n"
     ]
    }
   ],
   "source": [
    "axis1_concat = tf.concat(values, axis=1)\n",
    "print(axis1_concat)"
   ]
  },
  {
   "cell_type": "code",
   "execution_count": 25,
   "id": "e6f0d308-64a0-44dd-bef5-9aaf4622d4dd",
   "metadata": {},
   "outputs": [
    {
     "name": "stdout",
     "output_type": "stream",
     "text": [
      "tf.Tensor(\n",
      "[[9 5 0 0 0 1]\n",
      " [5 1 1 2 2 5]], shape=(2, 6), dtype=int32)\n"
     ]
    }
   ],
   "source": [
    "axis1_concat = tf.concat(values, axis=-1)\n",
    "print(axis1_concat)"
   ]
  },
  {
   "cell_type": "markdown",
   "id": "a53398ac-f68c-4354-bc32-3a4d6976700a",
   "metadata": {},
   "source": [
    "## tf.stack(values, axis=0)"
   ]
  },
  {
   "cell_type": "markdown",
   "id": "f6d0754e-0b36-4126-bd09-508b66df6655",
   "metadata": {},
   "source": [
    "- 비어있는 tensor를 생성해 입력되는 tensor들은 순서대로 쌓아가는 함수\n",
    "- tf.concat과 기능적으로 유사"
   ]
  },
  {
   "cell_type": "code",
   "execution_count": 26,
   "id": "8ef19aae-3387-4613-bc1f-ea8bd85e0162",
   "metadata": {},
   "outputs": [],
   "source": [
    "tensor_a = tf.constant([1,2])\n",
    "tensor_b = tf.constant([3,4])\n",
    "tensor_c = tf.constant([5,6])"
   ]
  },
  {
   "cell_type": "code",
   "execution_count": 27,
   "id": "ad660921-0fcb-4619-b5fc-00c15e0f314d",
   "metadata": {},
   "outputs": [
    {
     "name": "stdout",
     "output_type": "stream",
     "text": [
      "tf.Tensor(\n",
      "[[1 2]\n",
      " [3 4]\n",
      " [5 6]], shape=(3, 2), dtype=int32)\n"
     ]
    }
   ],
   "source": [
    "stacked_tensor = tf.stack([tensor_a, tensor_b,tensor_c])\n",
    "print(stacked_tensor)"
   ]
  },
  {
   "cell_type": "code",
   "execution_count": 28,
   "id": "c1d6a973-a709-4a16-ba40-5ee8c0c79224",
   "metadata": {},
   "outputs": [
    {
     "name": "stdout",
     "output_type": "stream",
     "text": [
      "tf.Tensor(\n",
      "[[1 3 5]\n",
      " [2 4 6]], shape=(2, 3), dtype=int32)\n"
     ]
    }
   ],
   "source": [
    "stacked_tensor = tf.stack([tensor_a, tensor_b,tensor_c], axis=1)\n",
    "print(stacked_tensor)"
   ]
  },
  {
   "cell_type": "markdown",
   "id": "cfb882e2-45b6-4e8c-b4a9-6545ddf0ab5d",
   "metadata": {},
   "source": [
    "## tf.shape(input, out_type = tf.dytpes.int32, name=None)"
   ]
  },
  {
   "cell_type": "markdown",
   "id": "ef8236ea-b987-4acc-9b2e-73051e281f38",
   "metadata": {},
   "source": [
    "- tensor input의 shape를 반환\n",
    "- input : shape를 반환하기 원하는 tensor"
   ]
  },
  {
   "cell_type": "code",
   "execution_count": 29,
   "id": "0cdba018-c4dd-4a80-ae41-223e2f3404b5",
   "metadata": {},
   "outputs": [
    {
     "name": "stdout",
     "output_type": "stream",
     "text": [
      "tf.Tensor([3 5], shape=(2,), dtype=int32)\n"
     ]
    }
   ],
   "source": [
    "input_tensor = zero_tensor\n",
    "input_tensor_shape = tf.shape(input_tensor)\n",
    "\n",
    "print(input_tensor_shape)"
   ]
  },
  {
   "cell_type": "markdown",
   "id": "fa109b81-46fe-48e2-9af5-857b8cff52e0",
   "metadata": {},
   "source": [
    "## tf.reshape(X, shape)"
   ]
  },
  {
   "cell_type": "markdown",
   "id": "a9346704-7060-491c-ab55-1561e326acdd",
   "metadata": {},
   "source": [
    "- tensor X를 shape에 따라 변경하는 함수\n",
    "- 단 Shape element들의 곱이 같아야함"
   ]
  },
  {
   "cell_type": "code",
   "execution_count": 30,
   "id": "36980d71-1733-4e45-9b09-703c3c6ecd57",
   "metadata": {},
   "outputs": [
    {
     "name": "stdout",
     "output_type": "stream",
     "text": [
      "tf.Tensor([0 1 2 3 4 5], shape=(6,), dtype=int32)\n"
     ]
    }
   ],
   "source": [
    "X = tf.constant([0,1,2,3,4,5])\n",
    "print(X)"
   ]
  },
  {
   "cell_type": "code",
   "execution_count": 31,
   "id": "a3ab9cdd-c296-4186-9ef7-ff9d16004478",
   "metadata": {},
   "outputs": [
    {
     "name": "stdout",
     "output_type": "stream",
     "text": [
      "tf.Tensor(\n",
      "[[0 1 2]\n",
      " [3 4 5]], shape=(2, 3), dtype=int32)\n"
     ]
    }
   ],
   "source": [
    "reshaped_X = tf.reshape(X, shape=[2,3])\n",
    "print(reshaped_X)"
   ]
  },
  {
   "cell_type": "markdown",
   "id": "c3cf344b-f776-4080-86d1-546fcc61fbab",
   "metadata": {},
   "source": [
    "## tf.ones(shape,dtype = tf.dtyps.float32, name=None)"
   ]
  },
  {
   "cell_type": "markdown",
   "id": "91b46291-dc31-4cec-8d59-13196a24ae0b",
   "metadata": {},
   "source": [
    "- 입력되는 shape에 따라 1로 채워진 tensor를 생성하는 함수\n",
    "- shape : 생성하기 원하는 출력의 shape\n",
    "- dtype : 출력 tensor의 자료형, default값으로 float32 사용"
   ]
  },
  {
   "cell_type": "code",
   "execution_count": 32,
   "id": "5b2d05b1-8975-4630-ab6a-1ec439a6fa03",
   "metadata": {},
   "outputs": [
    {
     "name": "stdout",
     "output_type": "stream",
     "text": [
      "tf.Tensor(\n",
      "[[1. 1. 1. 1. 1.]\n",
      " [1. 1. 1. 1. 1.]\n",
      " [1. 1. 1. 1. 1.]], shape=(3, 5), dtype=float32)\n"
     ]
    }
   ],
   "source": [
    "ones_tensor = tf.ones(input_tensor_shape)\n",
    "print(ones_tensor)"
   ]
  },
  {
   "cell_type": "code",
   "execution_count": 33,
   "id": "6ca5c60c-4ff5-4b9e-b4a6-c74cfbde6d7d",
   "metadata": {},
   "outputs": [
    {
     "name": "stdout",
     "output_type": "stream",
     "text": [
      "tf.Tensor(\n",
      "[[1 1 1 1 1]\n",
      " [1 1 1 1 1]\n",
      " [1 1 1 1 1]], shape=(3, 5), dtype=int32)\n"
     ]
    }
   ],
   "source": [
    "ones_tensor = tf.ones(input_tensor_shape, dtype = tf.dtypes.int32)\n",
    "print(ones_tensor)"
   ]
  },
  {
   "cell_type": "markdown",
   "id": "d158994f-9e87-42b2-9459-cf7dc48affc1",
   "metadata": {},
   "source": [
    "## tf.cast(x, dtype, name=None)"
   ]
  },
  {
   "cell_type": "markdown",
   "id": "9c031105-353e-4a9c-8f15-927aeb593c63",
   "metadata": {},
   "source": [
    "- Tensor를 dtype에 따른 형태로 변경하는 함수\n",
    "- x : 입력 tensor\n",
    "- dtype : 입력 x을 변형하기 원하는 자료형 "
   ]
  },
  {
   "cell_type": "code",
   "execution_count": 34,
   "id": "81c5df3c-33b4-428e-b880-9976fab20f72",
   "metadata": {},
   "outputs": [
    {
     "name": "stdout",
     "output_type": "stream",
     "text": [
      "tf.Tensor([1 2], shape=(2,), dtype=int32)\n"
     ]
    }
   ],
   "source": [
    "cast_tensor = [1.8, 2.2]\n",
    "print(tf.cast(cast_tensor,tf.int32))"
   ]
  },
  {
   "cell_type": "markdown",
   "id": "69044d03-a03b-4649-857c-e061570620e2",
   "metadata": {},
   "source": [
    "## tf.expand_dims(input, axis, name=None)"
   ]
  },
  {
   "cell_type": "markdown",
   "id": "5ab2eaf6-3dc8-4198-a17e-305876bccb32",
   "metadata": {},
   "source": [
    "- tensor input의 차원을 추가시켜주는 함수\n",
    "- axis값에 따라 차원이 추가된 shape의 모양이 달라짐\n",
    "- input : 입력 tensor\n",
    "- axis : 차원을 추가하기 원하는 축 "
   ]
  },
  {
   "cell_type": "code",
   "execution_count": 35,
   "id": "3192aedb-b97c-46ff-898f-904e2f9496fe",
   "metadata": {},
   "outputs": [
    {
     "name": "stdout",
     "output_type": "stream",
     "text": [
      "tf.Tensor([9 5 0 5 1 1], shape=(6,), dtype=int32)\n"
     ]
    }
   ],
   "source": [
    "one_dim_tensor = tf.constant([9,5,0,5,1,1], dtype=tf.dtypes.int32, shape = [6])\n",
    "print(one_dim_tensor)"
   ]
  },
  {
   "cell_type": "code",
   "execution_count": 36,
   "id": "a74e0482-88fa-4c05-9c1d-2c2ab1906d88",
   "metadata": {},
   "outputs": [
    {
     "name": "stdout",
     "output_type": "stream",
     "text": [
      "tf.Tensor([[9 5 0 5 1 1]], shape=(1, 6), dtype=int32)\n"
     ]
    }
   ],
   "source": [
    "two_dim_tensor = tf.expand_dims(one_dim_tensor, axis=0)\n",
    "print(two_dim_tensor)"
   ]
  },
  {
   "cell_type": "code",
   "execution_count": 37,
   "id": "1be49208-900e-494e-8397-5d1f994335d7",
   "metadata": {},
   "outputs": [
    {
     "name": "stdout",
     "output_type": "stream",
     "text": [
      "tf.Tensor(\n",
      "[[9]\n",
      " [5]\n",
      " [0]\n",
      " [5]\n",
      " [1]\n",
      " [1]], shape=(6, 1), dtype=int32)\n"
     ]
    }
   ],
   "source": [
    "two_dim_tensor = tf.expand_dims(one_dim_tensor, axis=1)\n",
    "print(two_dim_tensor)"
   ]
  },
  {
   "cell_type": "code",
   "execution_count": 38,
   "id": "7d2c5481-26ee-4df5-b1de-03e5852c8913",
   "metadata": {},
   "outputs": [
    {
     "name": "stdout",
     "output_type": "stream",
     "text": [
      "tf.Tensor(\n",
      "[[[9]\n",
      "  [5]\n",
      "  [0]\n",
      "  [5]\n",
      "  [1]\n",
      "  [1]]], shape=(1, 6, 1), dtype=int32)\n"
     ]
    }
   ],
   "source": [
    "three_dim_tensor = tf.expand_dims(two_dim_tensor, axis=0)\n",
    "print(three_dim_tensor)"
   ]
  },
  {
   "cell_type": "code",
   "execution_count": 39,
   "id": "6ea6d986-2f51-45b2-89f3-be85bbf9fbdc",
   "metadata": {},
   "outputs": [
    {
     "name": "stdout",
     "output_type": "stream",
     "text": [
      "tf.Tensor(\n",
      "[[[9]]\n",
      "\n",
      " [[5]]\n",
      "\n",
      " [[0]]\n",
      "\n",
      " [[5]]\n",
      "\n",
      " [[1]]\n",
      "\n",
      " [[1]]], shape=(6, 1, 1), dtype=int32)\n"
     ]
    }
   ],
   "source": [
    "three_dim_tensor = tf.expand_dims(two_dim_tensor, axis=1)\n",
    "print(three_dim_tensor)"
   ]
  },
  {
   "cell_type": "code",
   "execution_count": 40,
   "id": "6e64655c-df4d-4806-a945-14b0a5435562",
   "metadata": {},
   "outputs": [
    {
     "name": "stdout",
     "output_type": "stream",
     "text": [
      "tf.Tensor(\n",
      "[[[9]]\n",
      "\n",
      " [[5]]\n",
      "\n",
      " [[0]]\n",
      "\n",
      " [[5]]\n",
      "\n",
      " [[1]]\n",
      "\n",
      " [[1]]], shape=(6, 1, 1), dtype=int32)\n"
     ]
    }
   ],
   "source": [
    "three_dim_tensor = tf.expand_dims(two_dim_tensor, axis=2)\n",
    "print(three_dim_tensor)"
   ]
  },
  {
   "cell_type": "code",
   "execution_count": 41,
   "id": "0237210a-7879-444d-8656-a19fa143c601",
   "metadata": {},
   "outputs": [
    {
     "name": "stdout",
     "output_type": "stream",
     "text": [
      "tf.Tensor(\n",
      "[[[9]]\n",
      "\n",
      " [[5]]\n",
      "\n",
      " [[0]]\n",
      "\n",
      " [[5]]\n",
      "\n",
      " [[1]]\n",
      "\n",
      " [[1]]], shape=(6, 1, 1), dtype=int32)\n"
     ]
    }
   ],
   "source": [
    "three_dim_tensor = tf.expand_dims(two_dim_tensor, axis=-1)\n",
    "print(three_dim_tensor)"
   ]
  },
  {
   "cell_type": "code",
   "execution_count": 42,
   "id": "3a4490f1-2d71-43b3-b780-891b456626be",
   "metadata": {},
   "outputs": [
    {
     "name": "stdout",
     "output_type": "stream",
     "text": [
      "tf.Tensor(\n",
      "[[[9]]\n",
      "\n",
      " [[5]]\n",
      "\n",
      " [[0]]\n",
      "\n",
      " [[5]]\n",
      "\n",
      " [[1]]\n",
      "\n",
      " [[1]]], shape=(6, 1, 1), dtype=int32)\n"
     ]
    }
   ],
   "source": [
    "three_dim_tensor = tf.expand_dims(two_dim_tensor, axis=-1)\n",
    "print(three_dim_tensor)"
   ]
  },
  {
   "cell_type": "markdown",
   "id": "8f07187d-68d3-4edb-bd1e-4f4d80bfda07",
   "metadata": {},
   "source": [
    "## 차원을 추가하는 다른 방법 : tf.newaxis"
   ]
  },
  {
   "cell_type": "markdown",
   "id": "4009528e-94d8-4474-9c39-a5f021852d76",
   "metadata": {},
   "source": [
    "- 리스트를 활용하여 축을 추가하기 원하는 위치에 tf.newaxis를 입력"
   ]
  },
  {
   "cell_type": "code",
   "execution_count": 43,
   "id": "966096ec-1ee6-4fff-a473-112a5c81c4a3",
   "metadata": {},
   "outputs": [
    {
     "data": {
      "text/plain": [
       "<tf.Tensor: shape=(6,), dtype=int32, numpy=array([9, 5, 0, 5, 1, 1], dtype=int32)>"
      ]
     },
     "execution_count": 43,
     "metadata": {},
     "output_type": "execute_result"
    }
   ],
   "source": [
    "one_dim_tensor"
   ]
  },
  {
   "cell_type": "markdown",
   "id": "e55f1e72-9586-457a-8d22-193a2064c665",
   "metadata": {},
   "source": [
    "### axis = 0에 차원을 추가"
   ]
  },
  {
   "cell_type": "code",
   "execution_count": 44,
   "id": "e3ba60e6-73c4-4fd1-8e22-5b2b12540ec2",
   "metadata": {},
   "outputs": [
    {
     "data": {
      "text/plain": [
       "<tf.Tensor: shape=(1, 6), dtype=int32, numpy=array([[9, 5, 0, 5, 1, 1]], dtype=int32)>"
      ]
     },
     "execution_count": 44,
     "metadata": {},
     "output_type": "execute_result"
    }
   ],
   "source": [
    "one_dim_tensor[tf.newaxis,:]"
   ]
  },
  {
   "cell_type": "markdown",
   "id": "a8925f3a-b653-4733-8874-6814273c9ee0",
   "metadata": {},
   "source": [
    "### axis = 1에 차원을 추가"
   ]
  },
  {
   "cell_type": "code",
   "execution_count": 45,
   "id": "2f91ed64-0d69-49a6-b595-8e0a0e341bae",
   "metadata": {},
   "outputs": [
    {
     "data": {
      "text/plain": [
       "<tf.Tensor: shape=(6, 1), dtype=int32, numpy=\n",
       "array([[9],\n",
       "       [5],\n",
       "       [0],\n",
       "       [5],\n",
       "       [1],\n",
       "       [1]], dtype=int32)>"
      ]
     },
     "execution_count": 45,
     "metadata": {},
     "output_type": "execute_result"
    }
   ],
   "source": [
    "one_dim_tensor[:,tf.newaxis]"
   ]
  },
  {
   "cell_type": "markdown",
   "id": "91501d3d-31ce-404f-bfbc-a1cfb8931d6b",
   "metadata": {},
   "source": [
    "### ★ 해보기 : tf.newaxis를 활용하여 아래 2차원 Tensor의 axis = 2에 차원 추가해보기"
   ]
  },
  {
   "cell_type": "code",
   "execution_count": 46,
   "id": "9001d67e-458e-4fea-9421-df61e132a0e9",
   "metadata": {},
   "outputs": [],
   "source": [
    "two_dim_tensor = tf.constant([9,5,0,5,1,1], shape=[2, 3], dtype = tf.dtypes.int32)"
   ]
  },
  {
   "cell_type": "code",
   "execution_count": null,
   "id": "bae23d29-306a-4ff7-ac13-625ebdef6e26",
   "metadata": {},
   "outputs": [],
   "source": []
  },
  {
   "cell_type": "markdown",
   "id": "c67365eb-67e2-4b62-b898-1894938c1330",
   "metadata": {},
   "source": [
    "## tf.equal(x, y, name=None)"
   ]
  },
  {
   "cell_type": "markdown",
   "id": "25f5b3a9-9463-4cb6-8623-172aedfdd559",
   "metadata": {},
   "source": [
    "- 2개의 tensor x,y의 element-wise를 반환하는 함수\n",
    "- tensor x,y의 element가 같은 경우 true를, 다를 경우 false를 출력"
   ]
  },
  {
   "cell_type": "code",
   "execution_count": 47,
   "id": "dcbce571-a994-48cb-8c64-af60f49a0268",
   "metadata": {},
   "outputs": [],
   "source": [
    "tensor_a = tf.constant([0,1,2,3,4,5])\n",
    "tensor_b = tf.constant([0,1,1,1,4,5])"
   ]
  },
  {
   "cell_type": "code",
   "execution_count": 48,
   "id": "826e62da-d42e-4a66-940b-757a8d6e171c",
   "metadata": {},
   "outputs": [
    {
     "name": "stdout",
     "output_type": "stream",
     "text": [
      "tf.Tensor([ True  True False False  True  True], shape=(6,), dtype=bool)\n"
     ]
    }
   ],
   "source": [
    "tf_tensor = tf.equal(tensor_a , tensor_b)\n",
    "print(tf_tensor)"
   ]
  },
  {
   "cell_type": "code",
   "execution_count": 49,
   "id": "992f67a5-fe43-482d-8cbb-d441b40d2d72",
   "metadata": {},
   "outputs": [
    {
     "name": "stdout",
     "output_type": "stream",
     "text": [
      "tf.Tensor(\n",
      "[[ True  True False]\n",
      " [False  True  True]], shape=(2, 3), dtype=bool)\n"
     ]
    }
   ],
   "source": [
    "tensor_a = tf.constant([0,1,2,3,4,5], shape = [2,3])\n",
    "tensor_b = tf.constant([0,1,1,1,4,5], shape = [2,3])\n",
    "tf_tensor = tf.equal(tensor_a, tensor_b)\n",
    "print(tf_tensor)"
   ]
  },
  {
   "cell_type": "markdown",
   "id": "72509694-44e5-47c6-90ea-bb3f9d7cd33b",
   "metadata": {},
   "source": [
    "## tf.math.logical_not(x, name=None)"
   ]
  },
  {
   "cell_type": "markdown",
   "id": "f578968a-e3b0-425d-9ea3-5d9ddcc5f0ab",
   "metadata": {},
   "source": [
    "- 입력 tensor x element들을 논리 연산 Not 연산 결과를 출력"
   ]
  },
  {
   "cell_type": "code",
   "execution_count": 50,
   "id": "c6e6acb0-382c-4efa-bf3f-723436ea857b",
   "metadata": {},
   "outputs": [
    {
     "data": {
      "text/plain": [
       "<tf.Tensor: shape=(2, 3), dtype=bool, numpy=\n",
       "array([[ True,  True, False],\n",
       "       [False,  True,  True]])>"
      ]
     },
     "execution_count": 50,
     "metadata": {},
     "output_type": "execute_result"
    }
   ],
   "source": [
    "tf_tensor"
   ]
  },
  {
   "cell_type": "code",
   "execution_count": 51,
   "id": "34792982-53c3-427a-a46f-41224f8bdd8d",
   "metadata": {},
   "outputs": [
    {
     "name": "stdout",
     "output_type": "stream",
     "text": [
      "tf.Tensor(\n",
      "[[False False  True]\n",
      " [ True False False]], shape=(2, 3), dtype=bool)\n"
     ]
    }
   ],
   "source": [
    "not_tf_tensor = tf.math.logical_not(tf_tensor)\n",
    "print(not_tf_tensor)"
   ]
  },
  {
   "cell_type": "markdown",
   "id": "89639490-f62d-4396-8cd0-6f0772632819",
   "metadata": {},
   "source": [
    "## tf.math.logical_and(x, y, name=None)"
   ]
  },
  {
   "cell_type": "markdown",
   "id": "634b7dbc-9f8c-4e6b-b067-2cec76a86c2d",
   "metadata": {},
   "source": [
    "- 입력 tensor x, y들의 element들을 논리 연산 And 연산 결과를 출력"
   ]
  },
  {
   "cell_type": "code",
   "execution_count": 52,
   "id": "736a780a-a79b-4cd7-9a74-c3548505e6cb",
   "metadata": {},
   "outputs": [],
   "source": [
    "bool_tensor1 = tf.constant([True, False, False, True])\n",
    "bool_tensor2 = tf.constant([False, True, False, True])"
   ]
  },
  {
   "cell_type": "code",
   "execution_count": 53,
   "id": "26efad66-99bf-4eae-b8cb-ff0f458e1953",
   "metadata": {},
   "outputs": [
    {
     "name": "stdout",
     "output_type": "stream",
     "text": [
      "tf.Tensor([False False False  True], shape=(4,), dtype=bool)\n"
     ]
    }
   ],
   "source": [
    "and_tensor = tf.math.logical_and(bool_tensor1, bool_tensor2)\n",
    "print(and_tensor)"
   ]
  },
  {
   "cell_type": "markdown",
   "id": "61ca69e1-e899-4ba2-ad0d-461b8de5f081",
   "metadata": {},
   "source": [
    "## tf.math.logical_or(x, y, name=None)"
   ]
  },
  {
   "cell_type": "markdown",
   "id": "200bb36d-2a88-479f-9be5-5610bbda2b2b",
   "metadata": {},
   "source": [
    "- 입력 tensor x, y들의 element들을 논리 연산 Or 연산 결과를 출력"
   ]
  },
  {
   "cell_type": "code",
   "execution_count": 54,
   "id": "bc9378df-6bcd-47ec-9994-e0c31555cf49",
   "metadata": {},
   "outputs": [
    {
     "name": "stdout",
     "output_type": "stream",
     "text": [
      "tf.Tensor([ True  True False  True], shape=(4,), dtype=bool)\n"
     ]
    }
   ],
   "source": [
    "or_tensor = tf.math.logical_or(bool_tensor1, bool_tensor2)\n",
    "print(or_tensor)"
   ]
  },
  {
   "cell_type": "markdown",
   "id": "7b711988-11ea-4c0a-95fd-cc5b376c57b2",
   "metadata": {},
   "source": [
    "## tf.math.logical_xor(x, y, name=None)"
   ]
  },
  {
   "cell_type": "markdown",
   "id": "12a06fc3-4952-4263-89a9-1617a2d79743",
   "metadata": {},
   "source": [
    "- 입력 tensor x, y들의 element들을 논리 연산 Xor 연산 결과를 출력"
   ]
  },
  {
   "cell_type": "code",
   "execution_count": 55,
   "id": "e76368b2-9f9d-4c15-a2a4-939d76a8f1fd",
   "metadata": {},
   "outputs": [
    {
     "name": "stdout",
     "output_type": "stream",
     "text": [
      "tf.Tensor([ True  True False False], shape=(4,), dtype=bool)\n"
     ]
    }
   ],
   "source": [
    "xor_tensor = tf.math.logical_xor(bool_tensor1, bool_tensor2)\n",
    "print(xor_tensor)"
   ]
  },
  {
   "cell_type": "markdown",
   "id": "31cd6c40-ced9-4ec8-99aa-6533a2a36393",
   "metadata": {},
   "source": [
    "## tf.reduce_mean(input_tensor, axis=None, name=None)"
   ]
  },
  {
   "cell_type": "markdown",
   "id": "155d676a-b910-4a6e-b4ac-0584cedeb783",
   "metadata": {},
   "source": [
    "- 입력 tensor input_tensor의 axis에 따른 평균을 출력하는 함수\n",
    "- axis : 평균을 찾으려하는 축"
   ]
  },
  {
   "cell_type": "code",
   "execution_count": 56,
   "id": "6e027bf7-bdee-4ba9-801d-2c4a6f49164b",
   "metadata": {},
   "outputs": [
    {
     "name": "stdout",
     "output_type": "stream",
     "text": [
      "tf.Tensor(\n",
      "[[-1.  1.  2.]\n",
      " [-3.  4.  5.]], shape=(2, 3), dtype=float32)\n"
     ]
    }
   ],
   "source": [
    "tensor_a = tf.constant([-1,1,2,-3,4,5], shape = [2,3], dtype = tf.float32)\n",
    "print(tensor_a)"
   ]
  },
  {
   "cell_type": "code",
   "execution_count": 57,
   "id": "0c10c844-2482-42b8-a9b3-5fd82c75daa9",
   "metadata": {},
   "outputs": [
    {
     "name": "stdout",
     "output_type": "stream",
     "text": [
      "tf.Tensor([-2.   2.5  3.5], shape=(3,), dtype=float32)\n"
     ]
    }
   ],
   "source": [
    "axis0_mean = tf.reduce_mean(tensor_a, axis=0)\n",
    "print(axis0_mean)"
   ]
  },
  {
   "cell_type": "code",
   "execution_count": 58,
   "id": "87a95599-f058-462e-823e-cb26e163065c",
   "metadata": {},
   "outputs": [
    {
     "name": "stdout",
     "output_type": "stream",
     "text": [
      "tf.Tensor([0.6666667 2.       ], shape=(2,), dtype=float32)\n"
     ]
    }
   ],
   "source": [
    "axis1_mean = tf.reduce_mean(tensor_a, axis=1)\n",
    "print(axis1_mean)"
   ]
  },
  {
   "cell_type": "markdown",
   "id": "e7756a45-3d0d-4f49-8361-9a26084d0a33",
   "metadata": {},
   "source": [
    "## tf.argmax(input, axis=None, output_type=tf.dtypes.int64)"
   ]
  },
  {
   "cell_type": "markdown",
   "id": "f2ca2683-2f39-4061-985d-2cc5750d04cb",
   "metadata": {},
   "source": [
    "- input tensor 중 element가 가장 큰 index를 반환하는 함수\n",
    "- 설정한 axis 값에 따라 각 axis에서 element가 가장 큰 index를 반환"
   ]
  },
  {
   "cell_type": "code",
   "execution_count": 59,
   "id": "e1348f6e-8365-4c12-b8db-405a6bd1ec6c",
   "metadata": {},
   "outputs": [],
   "source": [
    "tensor_a = tf.constant([7,4,2,8,3,5], shape=[3,2])"
   ]
  },
  {
   "cell_type": "code",
   "execution_count": 60,
   "id": "acaaa91a-9c2f-4842-bd22-419b7b5841a1",
   "metadata": {},
   "outputs": [
    {
     "data": {
      "text/plain": [
       "<tf.Tensor: shape=(3, 2), dtype=int32, numpy=\n",
       "array([[7, 4],\n",
       "       [2, 8],\n",
       "       [3, 5]], dtype=int32)>"
      ]
     },
     "execution_count": 60,
     "metadata": {},
     "output_type": "execute_result"
    }
   ],
   "source": [
    "tensor_a"
   ]
  },
  {
   "cell_type": "code",
   "execution_count": 61,
   "id": "49b849a2-4d7c-4f97-9e7e-8355d77a53ea",
   "metadata": {},
   "outputs": [
    {
     "name": "stdout",
     "output_type": "stream",
     "text": [
      "tf.Tensor([0 1], shape=(2,), dtype=int64)\n"
     ]
    }
   ],
   "source": [
    "axis0_max_index = tf.argmax(tensor_a, axis=0)\n",
    "print(axis0_max_index)"
   ]
  },
  {
   "cell_type": "code",
   "execution_count": 62,
   "id": "c731c0be-edc2-4ceb-ae7f-822ea2361ee7",
   "metadata": {},
   "outputs": [
    {
     "name": "stdout",
     "output_type": "stream",
     "text": [
      "tf.Tensor([0 1 1], shape=(3,), dtype=int64)\n"
     ]
    }
   ],
   "source": [
    "axis1_max_index = tf.argmax(tensor_a, axis=1)\n",
    "print(axis1_max_index)"
   ]
  },
  {
   "cell_type": "markdown",
   "id": "11b5a49d-afcb-4b5f-ba28-63e2a59f4d02",
   "metadata": {},
   "source": [
    "## tf.argmin(input, axis=None, output_type(tf.dtypes.int64)"
   ]
  },
  {
   "cell_type": "markdown",
   "id": "2d253810-8e18-45a2-a914-59e1bb4c2cbe",
   "metadata": {},
   "source": [
    "- input tensor 중 element가 가장 작은 index를 반환하는 함수\n",
    "- 설정한 axis 값에 따라 각 axis에서 element가 가장 작은 index를 반환"
   ]
  },
  {
   "cell_type": "code",
   "execution_count": 63,
   "id": "80c24baa-6f14-4af9-ad99-ed951abf412f",
   "metadata": {},
   "outputs": [
    {
     "name": "stdout",
     "output_type": "stream",
     "text": [
      "tf.Tensor([1 0], shape=(2,), dtype=int64)\n"
     ]
    }
   ],
   "source": [
    "axis0_min_index = tf.argmin(tensor_a, axis=0)\n",
    "print(axis0_min_index)"
   ]
  },
  {
   "cell_type": "code",
   "execution_count": 64,
   "id": "842ed4b2-4fd5-406c-9a66-d730d8fca29c",
   "metadata": {},
   "outputs": [
    {
     "name": "stdout",
     "output_type": "stream",
     "text": [
      "tf.Tensor([1 0 0], shape=(3,), dtype=int64)\n"
     ]
    }
   ],
   "source": [
    "axis1_min_index = tf.argmin(tensor_a, axis=1)\n",
    "print(axis1_min_index)"
   ]
  }
 ],
 "metadata": {
  "kernelspec": {
   "display_name": "Python 3",
   "language": "python",
   "name": "python3"
  },
  "language_info": {
   "codemirror_mode": {
    "name": "ipython",
    "version": 3
   },
   "file_extension": ".py",
   "mimetype": "text/x-python",
   "name": "python",
   "nbconvert_exporter": "python",
   "pygments_lexer": "ipython3",
   "version": "3.6.9"
  }
 },
 "nbformat": 4,
 "nbformat_minor": 5
}
