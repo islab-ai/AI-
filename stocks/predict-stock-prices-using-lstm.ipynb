{
 "cells": [
  {
   "cell_type": "markdown",
   "metadata": {
    "_cell_guid": "969d6ca2-efa8-ea00-2e8f-9e07655626d8"
   },
   "source": [
    "based on \n",
    "https://github.com/llSourcell/How-to-Predict-Stock-Prices-Easily-Demo\n",
    "and\n",
    "http://machinelearningmastery.com/time-series-prediction-lstm-recurrent-neural-networks-python-keras/\n",
    "\n",
    "I just want to predict if a stock will rise based on previous information"
   ]
  },
  {
   "cell_type": "code",
   "execution_count": 1,
   "metadata": {
    "_cell_guid": "f366cf34-f601-7e9b-53e5-5b4e2713044f"
   },
   "outputs": [],
   "source": [
    "import numpy as np # linear algebra\n",
    "import pandas as pd # data processing, CSV file I/O (e.g. pd.read_csv)\n",
    "\n",
    "from tqdm import tqdm\n",
    "from subprocess import check_output\n",
    "from tensorflow.keras.layers import Dense, Activation, Dropout, LSTM\n",
    "from tensorflow.keras.models import Sequential\n",
    "from sklearn.model_selection import  train_test_split\n",
    "import time #helper libraries\n",
    "from sklearn.preprocessing import MinMaxScaler\n",
    "import matplotlib.pyplot as plt\n",
    "from numpy import newaxis"
   ]
  },
  {
   "cell_type": "code",
   "execution_count": 2,
   "metadata": {
    "_cell_guid": "e7c1344f-59af-8372-0376-940a72566da6"
   },
   "outputs": [
    {
     "data": {
      "text/html": [
       "<div>\n",
       "<style scoped>\n",
       "    .dataframe tbody tr th:only-of-type {\n",
       "        vertical-align: middle;\n",
       "    }\n",
       "\n",
       "    .dataframe tbody tr th {\n",
       "        vertical-align: top;\n",
       "    }\n",
       "\n",
       "    .dataframe thead th {\n",
       "        text-align: right;\n",
       "    }\n",
       "</style>\n",
       "<table border=\"1\" class=\"dataframe\">\n",
       "  <thead>\n",
       "    <tr style=\"text-align: right;\">\n",
       "      <th></th>\n",
       "      <th>date</th>\n",
       "      <th>symbol</th>\n",
       "      <th>open</th>\n",
       "      <th>close</th>\n",
       "      <th>low</th>\n",
       "      <th>high</th>\n",
       "      <th>volume</th>\n",
       "    </tr>\n",
       "  </thead>\n",
       "  <tbody>\n",
       "    <tr>\n",
       "      <th>0</th>\n",
       "      <td>2016-01-05 00:00:00</td>\n",
       "      <td>WLTW</td>\n",
       "      <td>123.430000</td>\n",
       "      <td>125.839996</td>\n",
       "      <td>122.309998</td>\n",
       "      <td>126.250000</td>\n",
       "      <td>2163600.0</td>\n",
       "    </tr>\n",
       "    <tr>\n",
       "      <th>1</th>\n",
       "      <td>2016-01-06 00:00:00</td>\n",
       "      <td>WLTW</td>\n",
       "      <td>125.239998</td>\n",
       "      <td>119.980003</td>\n",
       "      <td>119.940002</td>\n",
       "      <td>125.540001</td>\n",
       "      <td>2386400.0</td>\n",
       "    </tr>\n",
       "    <tr>\n",
       "      <th>2</th>\n",
       "      <td>2016-01-07 00:00:00</td>\n",
       "      <td>WLTW</td>\n",
       "      <td>116.379997</td>\n",
       "      <td>114.949997</td>\n",
       "      <td>114.930000</td>\n",
       "      <td>119.739998</td>\n",
       "      <td>2489500.0</td>\n",
       "    </tr>\n",
       "    <tr>\n",
       "      <th>3</th>\n",
       "      <td>2016-01-08 00:00:00</td>\n",
       "      <td>WLTW</td>\n",
       "      <td>115.480003</td>\n",
       "      <td>116.620003</td>\n",
       "      <td>113.500000</td>\n",
       "      <td>117.440002</td>\n",
       "      <td>2006300.0</td>\n",
       "    </tr>\n",
       "    <tr>\n",
       "      <th>4</th>\n",
       "      <td>2016-01-11 00:00:00</td>\n",
       "      <td>WLTW</td>\n",
       "      <td>117.010002</td>\n",
       "      <td>114.970001</td>\n",
       "      <td>114.089996</td>\n",
       "      <td>117.330002</td>\n",
       "      <td>1408600.0</td>\n",
       "    </tr>\n",
       "    <tr>\n",
       "      <th>...</th>\n",
       "      <td>...</td>\n",
       "      <td>...</td>\n",
       "      <td>...</td>\n",
       "      <td>...</td>\n",
       "      <td>...</td>\n",
       "      <td>...</td>\n",
       "      <td>...</td>\n",
       "    </tr>\n",
       "    <tr>\n",
       "      <th>851259</th>\n",
       "      <td>2016-12-30</td>\n",
       "      <td>ZBH</td>\n",
       "      <td>103.309998</td>\n",
       "      <td>103.199997</td>\n",
       "      <td>102.849998</td>\n",
       "      <td>103.930000</td>\n",
       "      <td>973800.0</td>\n",
       "    </tr>\n",
       "    <tr>\n",
       "      <th>851260</th>\n",
       "      <td>2016-12-30</td>\n",
       "      <td>ZION</td>\n",
       "      <td>43.070000</td>\n",
       "      <td>43.040001</td>\n",
       "      <td>42.689999</td>\n",
       "      <td>43.310001</td>\n",
       "      <td>1938100.0</td>\n",
       "    </tr>\n",
       "    <tr>\n",
       "      <th>851261</th>\n",
       "      <td>2016-12-30</td>\n",
       "      <td>ZTS</td>\n",
       "      <td>53.639999</td>\n",
       "      <td>53.529999</td>\n",
       "      <td>53.270000</td>\n",
       "      <td>53.740002</td>\n",
       "      <td>1701200.0</td>\n",
       "    </tr>\n",
       "    <tr>\n",
       "      <th>851262</th>\n",
       "      <td>2016-12-30 00:00:00</td>\n",
       "      <td>AIV</td>\n",
       "      <td>44.730000</td>\n",
       "      <td>45.450001</td>\n",
       "      <td>44.410000</td>\n",
       "      <td>45.590000</td>\n",
       "      <td>1380900.0</td>\n",
       "    </tr>\n",
       "    <tr>\n",
       "      <th>851263</th>\n",
       "      <td>2016-12-30 00:00:00</td>\n",
       "      <td>FTV</td>\n",
       "      <td>54.200001</td>\n",
       "      <td>53.630001</td>\n",
       "      <td>53.389999</td>\n",
       "      <td>54.480000</td>\n",
       "      <td>705100.0</td>\n",
       "    </tr>\n",
       "  </tbody>\n",
       "</table>\n",
       "<p>851264 rows × 7 columns</p>\n",
       "</div>"
      ],
      "text/plain": [
       "                       date symbol        open       close         low  \\\n",
       "0       2016-01-05 00:00:00   WLTW  123.430000  125.839996  122.309998   \n",
       "1       2016-01-06 00:00:00   WLTW  125.239998  119.980003  119.940002   \n",
       "2       2016-01-07 00:00:00   WLTW  116.379997  114.949997  114.930000   \n",
       "3       2016-01-08 00:00:00   WLTW  115.480003  116.620003  113.500000   \n",
       "4       2016-01-11 00:00:00   WLTW  117.010002  114.970001  114.089996   \n",
       "...                     ...    ...         ...         ...         ...   \n",
       "851259           2016-12-30    ZBH  103.309998  103.199997  102.849998   \n",
       "851260           2016-12-30   ZION   43.070000   43.040001   42.689999   \n",
       "851261           2016-12-30    ZTS   53.639999   53.529999   53.270000   \n",
       "851262  2016-12-30 00:00:00    AIV   44.730000   45.450001   44.410000   \n",
       "851263  2016-12-30 00:00:00    FTV   54.200001   53.630001   53.389999   \n",
       "\n",
       "              high     volume  \n",
       "0       126.250000  2163600.0  \n",
       "1       125.540001  2386400.0  \n",
       "2       119.739998  2489500.0  \n",
       "3       117.440002  2006300.0  \n",
       "4       117.330002  1408600.0  \n",
       "...            ...        ...  \n",
       "851259  103.930000   973800.0  \n",
       "851260   43.310001  1938100.0  \n",
       "851261   53.740002  1701200.0  \n",
       "851262   45.590000  1380900.0  \n",
       "851263   54.480000   705100.0  \n",
       "\n",
       "[851264 rows x 7 columns]"
      ]
     },
     "execution_count": 2,
     "metadata": {},
     "output_type": "execute_result"
    }
   ],
   "source": [
    "prices_dataset =  pd.read_csv('./input/prices.csv', header=0)\n",
    "prices_dataset"
   ]
  },
  {
   "cell_type": "code",
   "execution_count": 3,
   "metadata": {},
   "outputs": [
    {
     "data": {
      "text/plain": [
       "713       17.100000\n",
       "1181      17.230000\n",
       "1649      17.170000\n",
       "2117      16.700001\n",
       "2585      16.700001\n",
       "            ...    \n",
       "849257    38.660000\n",
       "849757    38.919998\n",
       "850257    38.730000\n",
       "850757    38.639999\n",
       "851257    38.669998\n",
       "Name: close, Length: 1762, dtype: float64"
      ]
     },
     "execution_count": 3,
     "metadata": {},
     "output_type": "execute_result"
    }
   ],
   "source": [
    "# prices_dataset의 symbol column이 YHOO 인 row를 data frame yahoo에 저장\n",
    "yahoo = prices_dataset[prices_dataset['symbol']=='YHOO']\n",
    "yahoo['close']"
   ]
  },
  {
   "cell_type": "markdown",
   "metadata": {},
   "source": [
    "# Step1. 데이터 전처리"
   ]
  },
  {
   "cell_type": "code",
   "execution_count": 4,
   "metadata": {
    "_cell_guid": "afbaa2e6-6f36-7726-bff0-399b365382fb"
   },
   "outputs": [],
   "source": [
    "# closs column의 값들의 자료형을 float32로 변경해 yahoo_stock_prices에 저장\n",
    "yahoo_stock_prices = yahoo['close'].values.astype('float32') \n",
    "\n",
    "# yahoo_stock_prices를 시각화하기 위해 (1762,1)(1차원)으로 reshape \n",
    "yahoo_stock_prices = yahoo_stock_prices.reshape(1762, 1)"
   ]
  },
  {
   "cell_type": "code",
   "execution_count": 5,
   "metadata": {
    "_cell_guid": "a7fe4936-c44b-1788-a16b-35b5b1eb675c"
   },
   "outputs": [],
   "source": [
    "yahoo_stock_prices_copy = yahoo_stock_prices.copy()\n",
    "\n",
    "scaler = MinMaxScaler(feature_range=(0, 1)) \n",
    "# (X - X.min(axis=0)) / (X.max(axis=0) - X.min(axis=0))\n",
    "# Min-Max를 통해 0~1사이로 값을 변형\n",
    "\n",
    "yahoo_stock_prices = scaler.fit_transform(yahoo_stock_prices)\n",
    "# yahoo_stock_prices를 0~1 사이로 변경"
   ]
  },
  {
   "cell_type": "code",
   "execution_count": 6,
   "metadata": {},
   "outputs": [
    {
     "data": {
      "image/png": "[encoded data removed]",
      "text/plain": [
       "<Figure size 432x288 with 2 Axes>"
      ]
     },
     "metadata": {
      "needs_background": "light"
     },
     "output_type": "display_data"
    }
   ],
   "source": [
    "plt.subplot(1,2,1)\n",
    "plt.plot(yahoo_stock_prices_copy,'b')\n",
    "plt.title(\"Before Scaler\")\n",
    "\n",
    "plt.subplot(1,2,2)\n",
    "plt.plot(yahoo_stock_prices,'r')\n",
    "plt.title(\"After Scaler\")\n",
    "plt.show()"
   ]
  },
  {
   "cell_type": "code",
   "execution_count": 7,
   "metadata": {
    "_cell_guid": "2f69042b-d335-b8ff-ec17-980189526e7d"
   },
   "outputs": [
    {
     "name": "stdout",
     "output_type": "stream",
     "text": [
      "Train set 비율 : 0.8, Test set 비율 : 0.2\n"
     ]
    }
   ],
   "source": [
    "# 80%의 시퀀스(시작부터 80%시점까지)를 Training Set으로 20%의 시퀀스(80%시점부터 끝까지)를 Test Set으로 사용\n",
    "train_size = int(len(yahoo_stock_prices) * 0.80)\n",
    "test_size = len(yahoo_stock_prices) - train_size\n",
    "train, test = yahoo_stock_prices[0:train_size,:], yahoo_stock_prices[train_size:len(yahoo_stock_prices),:]\n",
    "\n",
    "train_ratio = round(len(train)/len(yahoo_stock_prices),3)\n",
    "test_ratio = round(len(test)/len(yahoo_stock_prices),3)\n",
    "\n",
    "print(f\"Train set 비율 : {train_ratio}, Test set 비율 : {test_ratio}\")"
   ]
  },
  {
   "cell_type": "code",
   "execution_count": 8,
   "metadata": {},
   "outputs": [
    {
     "data": {
      "text/plain": [
       "1409"
      ]
     },
     "execution_count": 8,
     "metadata": {},
     "output_type": "execute_result"
    }
   ],
   "source": [
    "len(train)"
   ]
  },
  {
   "cell_type": "code",
   "execution_count": 9,
   "metadata": {
    "_cell_guid": "f9d24454-e0a4-a6e5-f04f-1b46b810158c"
   },
   "outputs": [],
   "source": [
    "# convert an array of values into a dataset matrix\n",
    "# t 시점에서의 데이터를 X, t+1 시점에서의 데이터를 Y로 구성하는 함수\n",
    "def create_dataset(dataset, look_back=1):\n",
    "    dataX, dataY = [], []\n",
    "    for i in range(len(dataset)-look_back-1):\n",
    "        a = dataset[i:(i+look_back), 0]\n",
    "        dataX.append(a)\n",
    "        dataY.append(dataset[i + look_back, 0])\n",
    "    return np.array(dataX), np.array(dataY)"
   ]
  },
  {
   "cell_type": "code",
   "execution_count": 10,
   "metadata": {
    "_cell_guid": "17f5bc9d-47ad-2206-71cd-e85ecac42175"
   },
   "outputs": [],
   "source": [
    "# create_dataset 함수를 활용해 t 시점에서의 데이터 X, t+1 시점에서의 데이터 Y 생성\n",
    "look_back = 1\n",
    "trainX, trainY = create_dataset(train, look_back)\n",
    "testX, testY = create_dataset(test, look_back)"
   ]
  },
  {
   "cell_type": "code",
   "execution_count": 11,
   "metadata": {
    "_cell_guid": "a74ff89f-d274-de8c-f11c-bf2ffaf29eed"
   },
   "outputs": [],
   "source": [
    "# 1차원 배열 X를 (X의 샘플수(row 수), time_step 수, 학습에 사용되는 feature 수(column 수))로 reshape → LSTM 입력을 위해\n",
    "# t시점의 가격을 통해 t+1시점의 가격을 예측하므로 time_step = 1\n",
    "# yahoo_stock_prices의 column 중 close column만 사용하므로 feature 수는 1\n",
    "samples = trainX.shape[0]\n",
    "test_samples = testX.shape[0]\n",
    "time_step = 1\n",
    "features = 1\n",
    "\n",
    "trainX = np.reshape(trainX, (samples, time_step, features)) \n",
    "testX = np.reshape(testX, (test_samples, time_step, features))"
   ]
  },
  {
   "cell_type": "markdown",
   "metadata": {},
   "source": [
    "# Step 2. 모델 빌드"
   ]
  },
  {
   "cell_type": "code",
   "execution_count": 12,
   "metadata": {
    "_cell_guid": "6e379f90-c703-6712-12ed-9aa0942a5408"
   },
   "outputs": [],
   "source": [
    "model = Sequential()\n",
    "\n",
    "# 모델 input shape를 (batch_size, time_step, features)로 지정\n",
    "# 해당 LSTM Layer를 통해 하나의 sample당 50개의 Unit을 출력\n",
    "model.add(LSTM(50, return_sequences=True, input_shape=(time_step, features)))\n",
    "model.add(Dropout(0.2))\n",
    "\n",
    "# 해당 LSTM Layer를 통해 하나의 sample당 100개의 Unit을 출력\n",
    "model.add(LSTM(100, return_sequences=False))\n",
    "model.add(Dropout(0.2))\n",
    "\n",
    "# t시점에 대해 t+1 시점의 가격 1개를 예측해야하므로 Dense=1로 지정\n",
    "# 즉, 출력이 1개여야 하므로 해당 Dense Layer의 출력은 1개여야함\n",
    "model.add(Dense(1))\n",
    "model.add(Activation('linear'))\n",
    "\n",
    "# 학습시 사용될 Loss 및 Optimizer 정의\n",
    "model.compile(loss='mse', optimizer='rmsprop')"
   ]
  },
  {
   "cell_type": "code",
   "execution_count": 13,
   "metadata": {},
   "outputs": [
    {
     "name": "stdout",
     "output_type": "stream",
     "text": [
      "Model: \"sequential\"\n",
      "_________________________________________________________________\n",
      "Layer (type)                 Output Shape              Param #   \n",
      "=================================================================\n",
      "lstm (LSTM)                  (None, 1, 50)             10400     \n",
      "_________________________________________________________________\n",
      "dropout (Dropout)            (None, 1, 50)             0         \n",
      "_________________________________________________________________\n",
      "lstm_1 (LSTM)                (None, 100)               60400     \n",
      "_________________________________________________________________\n",
      "dropout_1 (Dropout)          (None, 100)               0         \n",
      "_________________________________________________________________\n",
      "dense (Dense)                (None, 1)                 101       \n",
      "_________________________________________________________________\n",
      "activation (Activation)      (None, 1)                 0         \n",
      "=================================================================\n",
      "Total params: 70,901\n",
      "Trainable params: 70,901\n",
      "Non-trainable params: 0\n",
      "_________________________________________________________________\n"
     ]
    }
   ],
   "source": [
    "model.summary()"
   ]
  },
  {
   "cell_type": "code",
   "execution_count": 14,
   "metadata": {
    "_cell_guid": "e668a235-00fe-4fe3-925b-99051ae376f9"
   },
   "outputs": [
    {
     "name": "stdout",
     "output_type": "stream",
     "text": [
      "Epoch 1/10\n",
      "11/11 [==============================] - 4s 86ms/step - loss: 0.1418 - val_loss: 0.2864\n",
      "Epoch 2/10\n",
      "11/11 [==============================] - 0s 12ms/step - loss: 0.0829 - val_loss: 0.1375\n",
      "Epoch 3/10\n",
      "11/11 [==============================] - 0s 12ms/step - loss: 0.0405 - val_loss: 0.0550\n",
      "Epoch 4/10\n",
      "11/11 [==============================] - 0s 13ms/step - loss: 0.0275 - val_loss: 0.0338\n",
      "Epoch 5/10\n",
      "11/11 [==============================] - 0s 12ms/step - loss: 0.0176 - val_loss: 0.0135\n",
      "Epoch 6/10\n",
      "11/11 [==============================] - 0s 12ms/step - loss: 0.0089 - val_loss: 0.0056\n",
      "Epoch 7/10\n",
      "11/11 [==============================] - 0s 13ms/step - loss: 0.0036 - val_loss: 3.9435e-04\n",
      "Epoch 8/10\n",
      "11/11 [==============================] - 0s 13ms/step - loss: 0.0020 - val_loss: 3.7901e-04\n",
      "Epoch 9/10\n",
      "11/11 [==============================] - 0s 13ms/step - loss: 0.0020 - val_loss: 0.0016\n",
      "Epoch 10/10\n",
      "11/11 [==============================] - 0s 13ms/step - loss: 0.0021 - val_loss: 3.6721e-04\n"
     ]
    },
    {
     "data": {
      "text/plain": [
       "<tensorflow.python.keras.callbacks.History at 0x7f31581784e0>"
      ]
     },
     "execution_count": 14,
     "metadata": {},
     "output_type": "execute_result"
    }
   ],
   "source": [
    "model.fit(\n",
    "    trainX,\n",
    "    trainY,\n",
    "    batch_size=128,\n",
    "    epochs=10,\n",
    "    validation_split=0.05)"
   ]
  },
  {
   "cell_type": "code",
   "execution_count": 15,
   "metadata": {},
   "outputs": [],
   "source": [
    "predicted_price = model.predict(testX)"
   ]
  },
  {
   "cell_type": "code",
   "execution_count": 16,
   "metadata": {},
   "outputs": [],
   "source": [
    "def plot_results_multiple(predicted_data, true_data):\n",
    "    plt.subplot(1,2,1)\n",
    "    plt.title(\"Actual price\")\n",
    "    plt.plot(scaler.inverse_transform(true_data.reshape(-1,1)))\n",
    "    \n",
    "    plt.subplot(1,2,2)\n",
    "    plt.title(\"Predicted price\")\n",
    "    plt.plot(scaler.inverse_transform(np.array(predicted_data)), 'r')\n",
    "    plt.show()\n",
    "    "
   ]
  },
  {
   "cell_type": "code",
   "execution_count": 17,
   "metadata": {},
   "outputs": [
    {
     "data": {
      "image/png": "[encoded data removed]",
      "text/plain": [
       "<Figure size 432x288 with 2 Axes>"
      ]
     },
     "metadata": {
      "needs_background": "light"
     },
     "output_type": "display_data"
    }
   ],
   "source": [
    "plot_results_multiple(predicted_price, testY)"
   ]
  },
  {
   "cell_type": "markdown",
   "metadata": {
    "_cell_guid": "47e1110a-81cc-20f8-4157-39b83e000cd7"
   },
   "source": [
    "## 5일 동안의 가격을 예측"
   ]
  },
  {
   "cell_type": "code",
   "execution_count": 23,
   "metadata": {},
   "outputs": [],
   "source": [
    "def predict_sequences_multiple(model, firstValue,length):\n",
    "    prediction_seqs = []\n",
    "    curr_frame = firstValue\n",
    "    \n",
    "    for i in range(length): \n",
    "        predicted = []      \n",
    "        \n",
    "        predicted_price = model.predict(curr_frame[newaxis,:,:])\n",
    "        predicted.append(predicted_price[0][0])\n",
    "        \n",
    "        curr_frame = predicted_price\n",
    "        prediction_seqs.append(predicted[-1])\n",
    "        \n",
    "    return prediction_seqs\n",
    "\n",
    "predict_length=5\n",
    "predictions = predict_sequences_multiple(model, testX[3], predict_length)"
   ]
  },
  {
   "cell_type": "code",
   "execution_count": 26,
   "metadata": {},
   "outputs": [],
   "source": [
    "predicted_price = scaler.inverse_transform(np.array(predictions).reshape(-1, 1))\n",
    "true_price = scaler.inverse_transform(testY[3:3+predict_length].reshape(-1,1))"
   ]
  },
  {
   "cell_type": "code",
   "execution_count": 27,
   "metadata": {},
   "outputs": [
    {
     "name": "stdout",
     "output_type": "stream",
     "text": [
      "1일 후, 실제 주식 가격 : [36.24], 예측 주식 가격 : [35.274593]\n",
      "2일 후, 실제 주식 가격 : [36.1], 예측 주식 가격 : [34.588444]\n",
      "3일 후, 실제 주식 가격 : [35.69], 예측 주식 가격 : [33.874058]\n",
      "4일 후, 실제 주식 가격 : [35.19], 예측 주식 가격 : [33.13459]\n",
      "5일 후, 실제 주식 가격 : [34.1], 예측 주식 가격 : [32.373817]\n"
     ]
    }
   ],
   "source": [
    "for i,[pred, true] in enumerate(zip(predicted_price, true_price)):\n",
    "    print(f\"{i+1}일 후, 실제 주식 가격 : {true}, 예측 주식 가격 : {pred}\")"
   ]
  }
 ],
 "metadata": {
  "_change_revision": 903,
  "_is_fork": false,
  "kernelspec": {
   "display_name": "Python 3",
   "language": "python",
   "name": "python3"
  },
  "language_info": {
   "codemirror_mode": {
    "name": "ipython",
    "version": 3
   },
   "file_extension": ".py",
   "mimetype": "text/x-python",
   "name": "python",
   "nbconvert_exporter": "python",
   "pygments_lexer": "ipython3",
   "version": "3.6.9"
  }
 },
 "nbformat": 4,
 "nbformat_minor": 4
}
