{
 "cells": [
  {
   "cell_type": "markdown",
   "metadata": {
    "_cell_guid": "3975a3a8-8d1d-458c-9c18-7deeccbbf205",
    "_execution_state": "idle",
    "_uuid": "05bef3a5fb05cc62c34cace91131b01c452cff01"
   },
   "source": [
    "# Motivation : \n",
    "I read an interesting article about anomaly detection: https://iwringer.wordpress.com/2015/11/17/anomaly-detection-concepts-and-techniques/.  \n",
    "I wanted to try a few of these techniques to better understand them. I searched an interesting dataset on Kaggle about anomaly detection with simple exemples. I choose one exemple of NAB datasets (thanks for this datasets) and I implemented a few of these algorithms. The goal of this Notebook is just to implement these techniques and understand there main caracteristics. Sometimes, they are not adapted to this datasets. I add some visualizations to understand what the algorithm detect. Hope it can help some people.\n",
    "Notebook available (with Markov Chain) here: https://github.com/Vicam/Unsupervised_Anomaly_Detection\n",
    "\n",
    "# Algorithm implemented :\n",
    "- Cluster based anomaly detection (K-mean)\n",
    "- Repartition of data into categories then Gaussian/Elliptic Enveloppe on each categories separately\n",
    "- Isolation Forest\n",
    "- One class SVM"
   ]
  },
  {
   "cell_type": "code",
   "execution_count": 1,
   "metadata": {
    "_cell_guid": "5ac34a72-3992-448a-8ced-12bb329c40a7",
    "_execution_state": "idle",
    "_uuid": "1fd6aebed8495fb904ca1465245627cef301294d",
    "tags": []
   },
   "outputs": [],
   "source": [
    "# libraries\n",
    "#%matplotlib notebook\n",
    "\n",
    "import pandas as pd\n",
    "import numpy as np\n",
    "\n",
    "import matplotlib\n",
    "import seaborn\n",
    "import matplotlib.dates as md\n",
    "from matplotlib import pyplot as plt\n",
    "\n",
    "from sklearn import preprocessing\n",
    "from sklearn.decomposition import PCA\n",
    "from sklearn.cluster import KMeans\n",
    "from sklearn.covariance import EllipticEnvelope\n",
    "#from pyemma import msm # not available on Kaggle Kernel\n",
    "from sklearn.ensemble import IsolationForest\n",
    "from sklearn.svm import OneClassSVM"
   ]
  },
  {
   "cell_type": "code",
   "execution_count": 2,
   "metadata": {
    "_cell_guid": "828ca1cd-759b-4d8a-a592-eaf2ca691780",
    "_execution_state": "idle",
    "_uuid": "9eb06b06b146c9aa9533c1a78203dd1025d6e27e",
    "tags": []
   },
   "outputs": [],
   "source": [
    "# 가장 가까운 centroid와 각 point사이의 distance를 담은 Series를 반환하는 함수\n",
    "def getDistanceByPoint(data, model):\n",
    "    distance = pd.Series()\n",
    "    cluster_cnt = model.labels_.max()\n",
    "    for i in range(0,len(data)):\n",
    "        dists = []\n",
    "        Xa = np.array(data.loc[i])\n",
    "        for j in range(0,cluster_cnt):\n",
    "            Xb = model.cluster_centers_[j]\n",
    "            dists.append(np.linalg.norm(Xa-Xb))\n",
    "\n",
    "        distance.at[i] = min(dists)\n",
    "    return distance"
   ]
  },
  {
   "cell_type": "markdown",
   "metadata": {
    "_cell_guid": "3da6fa0d-ef0f-42d1-bd59-ee4fb3cfc2ab",
    "_execution_state": "idle",
    "_uuid": "7459b17ef14b51410807f57f36e887682f2cad33"
   },
   "source": [
    "# 1 Data\n",
    "## 1.1 Extract data\n",
    "The dataset is from https://www.kaggle.com/boltzmannbrain/nab \n",
    "In realKnownCause/ambient_temperature_system_failure.csv"
   ]
  },
  {
   "cell_type": "markdown",
   "metadata": {},
   "source": [
    "- machine_temperature_system_failure.csv\n",
    "    - 산업용 기계의 내부 구성 요소에 대한 온도 센서 데이터\n",
    "    - 시스템 종료, 감지하기 어렵거나, 치명적 기계 고장 등에 의해 이상 현상이 발생"
   ]
  },
  {
   "cell_type": "code",
   "execution_count": 3,
   "metadata": {
    "_cell_guid": "bcb68e2d-981d-403d-bfed-655e8a9bdc3c",
    "_execution_state": "idle",
    "_uuid": "e7d412858498c0da43c102f0ef1db787f1652374",
    "tags": []
   },
   "outputs": [],
   "source": [
    "# ambient_temperature_system_failure dataset \n",
    "df = pd.read_csv(\"./input/realKnownCause/realKnownCause/machine_temperature_system_failure.csv\")"
   ]
  },
  {
   "cell_type": "code",
   "execution_count": 4,
   "metadata": {},
   "outputs": [
    {
     "data": {
      "text/plain": [
       "22695"
      ]
     },
     "execution_count": 4,
     "metadata": {},
     "output_type": "execute_result"
    }
   ],
   "source": [
    "len(df)"
   ]
  },
  {
   "cell_type": "markdown",
   "metadata": {
    "_cell_guid": "fc3bc10f-54df-44e2-b3a2-cc8b59717c01",
    "_execution_state": "idle",
    "_uuid": "44c55c1820894f40f650cba31a4723591315345d"
   },
   "source": [
    "## 1.2 Understand data"
   ]
  },
  {
   "cell_type": "code",
   "execution_count": 5,
   "metadata": {
    "_cell_guid": "6ce4bfe8-1d91-4172-830e-a760e1d63b1e",
    "_execution_state": "idle",
    "_uuid": "3927fcc620162f8a69100525f83d609cd7b589f4"
   },
   "outputs": [
    {
     "name": "stdout",
     "output_type": "stream",
     "text": [
      "<class 'pandas.core.frame.DataFrame'>\n",
      "RangeIndex: 22695 entries, 0 to 22694\n",
      "Data columns (total 2 columns):\n",
      " #   Column     Non-Null Count  Dtype  \n",
      "---  ------     --------------  -----  \n",
      " 0   timestamp  22695 non-null  object \n",
      " 1   value      22695 non-null  float64\n",
      "dtypes: float64(1), object(1)\n",
      "memory usage: 354.7+ KB\n",
      "None\n"
     ]
    }
   ],
   "source": [
    "print(df.info())"
   ]
  },
  {
   "cell_type": "code",
   "execution_count": 6,
   "metadata": {
    "_cell_guid": "d5b77b21-3793-42ab-b291-11189be9071f",
    "_execution_state": "idle",
    "_uuid": "5ef1df3d1671939759548a4199fd05c17ec251e1"
   },
   "outputs": [
    {
     "name": "stdout",
     "output_type": "stream",
     "text": [
      "0    2013-12-02 21:15:00\n",
      "1    2013-12-02 21:20:00\n",
      "2    2013-12-02 21:25:00\n",
      "3    2013-12-02 21:30:00\n",
      "4    2013-12-02 21:35:00\n",
      "5    2013-12-02 21:40:00\n",
      "6    2013-12-02 21:45:00\n",
      "7    2013-12-02 21:50:00\n",
      "8    2013-12-02 21:55:00\n",
      "9    2013-12-02 22:00:00\n",
      "Name: timestamp, dtype: object\n"
     ]
    }
   ],
   "source": [
    "# timestamp의 format 확인 및 주기 확인\n",
    "print(df['timestamp'].head(10))"
   ]
  },
  {
   "cell_type": "code",
   "execution_count": 7,
   "metadata": {
    "_cell_guid": "5b0e5bea-f11b-4f81-93fd-a817a6f9f579",
    "_execution_state": "idle",
    "_uuid": "899ad93b122b2144c304ff31f93568e183c32c6c"
   },
   "outputs": [
    {
     "name": "stdout",
     "output_type": "stream",
     "text": [
      "85.92649821068021\n"
     ]
    }
   ],
   "source": [
    "# temperature의 mean 값 확인\n",
    "print(df['value'].mean())"
   ]
  },
  {
   "cell_type": "code",
   "execution_count": 8,
   "metadata": {
    "_cell_guid": "0395bd90-61f4-49db-b157-b58853afe2f8",
    "_execution_state": "idle",
    "_uuid": "d5e63d3da28366ddf2fbaa2653d75536332713dc"
   },
   "outputs": [
    {
     "data": {
      "text/plain": [
       "<AxesSubplot:xlabel='timestamp'>"
      ]
     },
     "execution_count": 8,
     "metadata": {},
     "output_type": "execute_result"
    },
    {
     "data": {
      "image/png": "[encoded data removed]",
      "text/plain": [
       "<Figure size 432x288 with 1 Axes>"
      ]
     },
     "metadata": {
      "needs_background": "light"
     },
     "output_type": "display_data"
    }
   ],
   "source": [
    "# plotting 하기위해 timestamp column의 type 변경\n",
    "df['timestamp'] = pd.to_datetime(df['timestamp'])\n",
    "\n",
    "# temperature의 단위를 °F 화씨에서 °C 도씨로 변경\n",
    "df['value'] = (df['value'] - 32) * 5/9\n",
    "\n",
    "# plot the data\n",
    "df.plot(x='timestamp', y='value')"
   ]
  },
  {
   "cell_type": "markdown",
   "metadata": {
    "_cell_guid": "90075ebb-0f2e-4258-8901-03a25ce67172",
    "_execution_state": "idle",
    "_uuid": "c62e4d5f8bf8a855aab7bfa86273d731a5638b6d"
   },
   "source": [
    "## 1.3 Feature engineering\n",
    "Extracting some useful features"
   ]
  },
  {
   "cell_type": "code",
   "execution_count": 9,
   "metadata": {
    "_cell_guid": "e1d36c51-0d96-43c5-8a6c-9f26d7997788",
    "_execution_state": "idle",
    "_uuid": "a86baa1be987a4de8b4b192af475ab4fde077d82",
    "tags": []
   },
   "outputs": [],
   "source": [
    "# hours column 추가 (0~23)\n",
    "df['hours'] = df['timestamp'].dt.hour\n",
    "\n",
    "# 밤/낮을 구분하기 위한 daylight column 추가\n",
    "# 07:00~22:00 : 0 // 22:00~07:00 : 1\n",
    "df['daylight'] = ((df['hours'] >= 7) & (df['hours'] <= 22)).astype(int)"
   ]
  },
  {
   "cell_type": "code",
   "execution_count": 10,
   "metadata": {
    "_cell_guid": "b5dc68e4-89b0-4248-853d-e00e5e9ef4e9",
    "_execution_state": "idle",
    "_uuid": "c3d4a71542f5080b5f87a27cf681f542a665a34c",
    "tags": []
   },
   "outputs": [],
   "source": [
    "# 한 주를 요일(월~일)로 나타내기 위한 DayOfTheWeek colume 추가\n",
    "# Monday = 0 ~ Sunday = 6\n",
    "df['DayOfTheWeek'] = df['timestamp'].dt.dayofweek\n",
    "\n",
    "# 주말(토, 일)을 나타내는 WeekDay colume 추가\n",
    "df['WeekDay'] = (df['DayOfTheWeek'] < 5).astype(int)\n",
    "\n",
    "# dataset의 이상 population 추정(outlier) 비율 // 일부 알고리즘에서 사용\n",
    "outliers_fraction = 0.01"
   ]
  },
  {
   "cell_type": "code",
   "execution_count": 11,
   "metadata": {
    "_cell_guid": "14cd3d26-a411-47f8-9238-2794284e8c9b",
    "_execution_state": "idle",
    "_uuid": "189cd0890e09373ed847b258d1354bd6eae7bfd8",
    "tags": []
   },
   "outputs": [],
   "source": [
    "# 쉽게 plot하기 위해 time을 int로 변경\n",
    "df['time_epoch'] = (df['timestamp'].astype(np.int64)/100000000000).astype(np.int64)"
   ]
  },
  {
   "cell_type": "code",
   "execution_count": 12,
   "metadata": {
    "_cell_guid": "0c5f5102-2122-41da-980d-c58c8438f190",
    "_execution_state": "idle",
    "_uuid": "60e1a0334d22e2c0c96ac279cc48c66f99b43248"
   },
   "outputs": [
    {
     "data": {
      "image/png": "[encoded data removed]",
      "text/plain": [
       "<Figure size 432x288 with 1 Axes>"
      ]
     },
     "metadata": {
      "needs_background": "light"
     },
     "output_type": "display_data"
    }
   ],
   "source": [
    "# 다음 4개의 카테고리 생성 (새로운 Feature 생성)\n",
    "# WeekEndNight : 주말 저녁\n",
    "# WeookEndLight : 주말 낮\n",
    "# WeekDayNight : 평일 저녁\n",
    "# WeekDayLight : 평일 낮\n",
    "\n",
    "df['categories'] = df['WeekDay']*2 + df['daylight']\n",
    "\n",
    "a = df.loc[df['categories'] == 0, 'value'] # 주말 저녁의 Temperature\n",
    "b = df.loc[df['categories'] == 1, 'value'] # 주말 낮의 Temperature\n",
    "c = df.loc[df['categories'] == 2, 'value'] # 평일 저녁의 Temperature\n",
    "d = df.loc[df['categories'] == 3, 'value'] # 평일 낮의 Temperature\n",
    "\n",
    "fig, ax = plt.subplots()\n",
    "\n",
    "# bins : 도수분포 구간, 도수분포 구간은 주말 저녁 Temperature 데이터 분포구간으로 통일\n",
    "# O_heights : 도수분포표의 각 구간에 있는 data 수\n",
    "a_heights, a_bins = np.histogram(a)\n",
    "b_heights, b_bins = np.histogram(b, bins=a_bins)\n",
    "c_heights, c_bins = np.histogram(c, bins=a_bins)\n",
    "d_heights, d_bins = np.histogram(d, bins=a_bins)\n",
    "\n",
    "# bar chart의 너비를 조정\n",
    "width = (a_bins[1] - a_bins[0])/6\n",
    "\n",
    "# 각 카테고리에 따른 데이터 분포를 백분률로 나타내기 위해 (O_heights*100/O.count) 연산법을 사용 \n",
    "ax.bar(a_bins[:-1], a_heights*100/a.count(), width=width, facecolor='blue', label='WeekEndNight')\n",
    "ax.bar(b_bins[:-1]+width, (b_heights*100/b.count()), width=width, facecolor='green', label ='WeekEndLight')\n",
    "ax.bar(c_bins[:-1]+width*2, (c_heights*100/c.count()), width=width, facecolor='red', label ='WeekDayNight')\n",
    "ax.bar(d_bins[:-1]+width*3, (d_heights*100/d.count()), width=width, facecolor='black', label ='WeekDayLight')\n",
    "\n",
    "plt.legend()\n",
    "plt.show()"
   ]
  },
  {
   "cell_type": "code",
   "execution_count": 13,
   "metadata": {},
   "outputs": [
    {
     "data": {
      "text/plain": [
       "98.4735632183908"
      ]
     },
     "execution_count": 13,
     "metadata": {},
     "output_type": "execute_result"
    }
   ],
   "source": [
    "np.sum(d_heights*100/d.count())"
   ]
  },
  {
   "cell_type": "markdown",
   "metadata": {
    "_cell_guid": "57fc7caa-fb96-491a-9857-3c6e58e8cade",
    "_execution_state": "idle",
    "_uuid": "3d980e3fcede78e8b9a3719cf3ad1da9ece24bff"
   },
   "source": [
    "We can see that the temperature is more stable during daylight of business day.\n",
    "# 2 Models\n",
    "## 2.1 Cluster only\n",
    "#### Use for collective anomalies (unordered). \n",
    "\n",
    "We group together the usual combination of features. The points that are far from the cluster are points with usual combination of features.We consider those points as anomalies."
   ]
  },
  {
   "cell_type": "code",
   "execution_count": 14,
   "metadata": {
    "_cell_guid": "01224c89-4372-4f8b-bfb8-d13eb4357264",
    "_execution_state": "idle",
    "_uuid": "7dfbf8b613b235120c39e11a8a87f3c5e90022e3",
    "tags": []
   },
   "outputs": [],
   "source": [
    "# Useful한 feature 추출 및 스케일링(StandardScaler)\n",
    "data = df[['value', 'hours', 'daylight', 'DayOfTheWeek', 'WeekDay']]\n",
    "min_max_scaler = preprocessing.StandardScaler()\n",
    "np_scaled = min_max_scaler.fit_transform(data)\n",
    "data = pd.DataFrame(np_scaled)\n",
    "\n",
    "# reduce to 2 importants features\n",
    "# 2개의 important feature까지 차원을 줄여나감\n",
    "pca = PCA(n_components=2)\n",
    "data = pca.fit_transform(data)\n",
    "\n",
    "# standardize these 2 new features\n",
    "# 2개의 feature에 대해 스케일링 진행\n",
    "min_max_scaler = preprocessing.StandardScaler()\n",
    "np_scaled = min_max_scaler.fit_transform(data)\n",
    "data = pd.DataFrame(np_scaled)"
   ]
  },
  {
   "cell_type": "code",
   "execution_count": 15,
   "metadata": {
    "_cell_guid": "be39cb8b-bcc7-4288-95cb-8c95291a55ba",
    "_execution_state": "idle",
    "_uuid": "452855f2761685d48a0bf360f253ecd18fe379fa"
   },
   "outputs": [
    {
     "data": {
      "image/png": "[encoded data removed]",
      "text/plain": [
       "<Figure size 432x288 with 1 Axes>"
      ]
     },
     "metadata": {
      "needs_background": "light"
     },
     "output_type": "display_data"
    }
   ],
   "source": [
    "# centroids의 다른 숫자 계산 보기위해 loss plot을\n",
    "# loss plot을 보기위해 centroids의 다른 숫자들과 함께 계산..?\n",
    "n_cluster = range(1, 20)\n",
    "kmeans = [KMeans(n_clusters=i).fit(data) for i in n_cluster]\n",
    "scores = [kmeans[i].score(data) for i in range(len(kmeans))]\n",
    "fig, ax = plt.subplots()\n",
    "ax.plot(n_cluster, scores)\n",
    "plt.show()"
   ]
  },
  {
   "cell_type": "code",
   "execution_count": 16,
   "metadata": {
    "_cell_guid": "69beec11-d424-4646-b964-d5fbbf8a6550",
    "_execution_state": "idle",
    "_uuid": "0736ab2c718cbc4138b07deef6c20a690dcecdc7"
   },
   "outputs": [
    {
     "data": {
      "text/plain": [
       "4     1848\n",
       "2     1848\n",
       "3     1628\n",
       "12    1586\n",
       "6     1568\n",
       "13    1553\n",
       "9     1543\n",
       "8     1539\n",
       "10    1520\n",
       "11    1498\n",
       "0     1422\n",
       "7     1409\n",
       "14    1352\n",
       "1     1233\n",
       "5     1148\n",
       "Name: cluster, dtype: int64"
      ]
     },
     "execution_count": 16,
     "metadata": {},
     "output_type": "execute_result"
    }
   ],
   "source": [
    "# 임의로 15개의 centroids를 선택 및 central dataframe에 선택된 데이터들을 더함\n",
    "df['cluster'] = kmeans[14].predict(data)\n",
    "df['principal_feature1'] = data[0]\n",
    "df['principal_feature2'] = data[1]\n",
    "df['cluster'].value_counts()"
   ]
  },
  {
   "cell_type": "code",
   "execution_count": 17,
   "metadata": {
    "_cell_guid": "d14ac727-eac4-4ae1-99c8-b9fb9b1301e7",
    "_execution_state": "idle",
    "_uuid": "64ac4322fbf2bc36539e0a60ff8e45254dc63afe"
   },
   "outputs": [
    {
     "data": {
      "image/png": "[encoded data removed]",
      "text/plain": [
       "<Figure size 432x288 with 1 Axes>"
      ]
     },
     "metadata": {
      "needs_background": "light"
     },
     "output_type": "display_data"
    }
   ],
   "source": [
    "# 2개의 main feature들과 함께 다른 cluster들을 plot\n",
    "fig, ax = plt.subplots()\n",
    "colors = {0:'red', 1:'blue', 2:'green', 3:'pink', 4:'black', 5:'orange', 6:'cyan', 7:'yellow', 8:'brown', 9:'purple', 10:'white', 11: 'grey', 12:'lightblue', 13:'lightgreen', 14: 'darkgrey'}\n",
    "ax.scatter(df['principal_feature1'], df['principal_feature2'], c=df[\"cluster\"].apply(lambda x: colors[x]))\n",
    "plt.show()"
   ]
  },
  {
   "cell_type": "code",
   "execution_count": null,
   "metadata": {
    "_cell_guid": "cd260641-7e32-4305-b7a8-008fcff4dcfc",
    "_execution_state": "idle",
    "_uuid": "1a84160cfb1d419c3a0a57530c079bfa6b1a11b1",
    "tags": []
   },
   "outputs": [
    {
     "name": "stderr",
     "output_type": "stream",
     "text": [
      "d:\\programdata\\junseok\\lib\\site-packages\\ipykernel_launcher.py:3: DeprecationWarning: The default dtype for empty Series will be 'object' instead of 'float64' in a future version. Specify a dtype explicitly to silence this warning.\n",
      "  This is separate from the ipykernel package so we can avoid doing imports until\n"
     ]
    }
   ],
   "source": [
    "# 각 point와 가장 가까운 centroid 사이의 distance 계산 \n",
    "# 가장 큰 distanace를 anomaly로써 간주\n",
    "distance = getDistanceByPoint(data, kmeans[14])\n",
    "number_of_outliers = int(outliers_fraction*len(distance))\n",
    "threshold = distance.nlargest(number_of_outliers).min()\n",
    "\n",
    "# 메인 Dataframe에 PCA 및 Clustering을 사용한 anomaly detection 결과를 저장\n",
    "# anomaLy21은 0은 normal로 1은 anomaly로 클러스터링을 진행한 결과\n",
    "df['anomaly21'] = (distance >= threshold).astype(int)"
   ]
  },
  {
   "cell_type": "code",
   "execution_count": null,
   "metadata": {
    "_cell_guid": "38a6fd23-954f-400c-8065-f4bea22183d5",
    "_execution_state": "idle",
    "_uuid": "40e05059a9a66b52fba53c654232a356df3a8828"
   },
   "outputs": [],
   "source": [
    "# cluster 및 cluster 중 anomaly 시각화\n",
    "# 파란색 = normal / 빨간색 = red\n",
    "fig, ax = plt.subplots()\n",
    "colors = {0:'blue', 1:'red'}\n",
    "ax.scatter(df['principal_feature1'], df['principal_feature2'], c=df[\"anomaly21\"].apply(lambda x: colors[x]))\n",
    "plt.show()"
   ]
  },
  {
   "cell_type": "code",
   "execution_count": null,
   "metadata": {
    "_cell_guid": "56a2455c-ee60-491e-8010-aab56eeb8e3f",
    "_execution_state": "idle",
    "_uuid": "8ae64bd8c8b942e2b8aaf9e6b75d40df7b5c4c6c"
   },
   "outputs": [],
   "source": [
    "# 시간 도메인에서의 anomaly 시각화\n",
    "fig, ax = plt.subplots()\n",
    "\n",
    "a = df.loc[df['anomaly21'] == 1, ['time_epoch', 'value']] #anomaly\n",
    "\n",
    "ax.plot(df['time_epoch'], df['value'], color='blue')\n",
    "ax.scatter(a['time_epoch'],a['value'], color='red')\n",
    "plt.show()"
   ]
  },
  {
   "cell_type": "code",
   "execution_count": null,
   "metadata": {
    "_cell_guid": "9926f2fb-6fa2-44e8-8b97-c5e4b6de311f",
    "_execution_state": "idle",
    "_uuid": "3b12e1fe4c788500c1734de1c676dd4f429afe7c"
   },
   "outputs": [],
   "source": [
    "# 온도 분포 및 anomaly 온도 분포 시각화\n",
    "a = df.loc[df['anomaly21'] == 0, 'value']\n",
    "b = df.loc[df['anomaly21'] == 1, 'value']\n",
    "\n",
    "fig, axs = plt.subplots()\n",
    "axs.hist([a,b], bins=32, stacked=True, color=['blue', 'red'], label=['normal', 'anomaly'])\n",
    "plt.legend()\n",
    "plt.show()"
   ]
  },
  {
   "cell_type": "markdown",
   "metadata": {
    "_cell_guid": "211bffc8-1a4e-4e47-87af-2c50dd896d02",
    "_execution_state": "idle",
    "_uuid": "c7840c929e610cd29d1775e30ad45364407dc7a0"
   },
   "source": [
    "Cluster method detects the low temperature around the end of record as unusually low. It doesn't detect the highest temperature pic.\n",
    "## 2.2 Categories + Gaussian\n",
    "#### Use for contextual data and collective anomalies (unordered).  \n",
    "We will separate data by (what we think of) important categories. Or we can separate data based on different cluster (method 2.3). Then we find outliers (gaussian repartition, unimodal) by categories independently.   "
   ]
  },
  {
   "cell_type": "code",
   "execution_count": null,
   "metadata": {
    "_cell_guid": "46755793-473d-413d-a0fc-b08b7d589676",
    "_execution_state": "idle",
    "_uuid": "0c35172a17989a3cf536fca25a4560a933eaa374",
    "tags": []
   },
   "outputs": [],
   "source": [
    "# 다음 4개의 카테고리 생성 (새로운 Feature 생성)\n",
    "# WeekEndNight : 주말 저녁\n",
    "# WeookEndLight : 주말 낮\n",
    "# WeekDayNight : 평일 저녁\n",
    "# WeekDayLight : 평일 낮\n",
    "df_class0 = df.loc[df['categories'] == 0, 'value']\n",
    "df_class1 = df.loc[df['categories'] == 1, 'value']\n",
    "df_class2 = df.loc[df['categories'] == 2, 'value']\n",
    "df_class3 = df.loc[df['categories'] == 3, 'value']"
   ]
  },
  {
   "cell_type": "code",
   "execution_count": null,
   "metadata": {
    "_cell_guid": "1b973d0e-300a-4875-834d-d6011b43d25f",
    "_execution_state": "idle",
    "_uuid": "8562a05945620307d0a63ccd36da46e5c4434a3c"
   },
   "outputs": [],
   "source": [
    "# 각 카테고리에 따른 온도 분포 plot\n",
    "fig, axs = plt.subplots(2,2)\n",
    "df_class0.hist(ax=axs[0,0],bins=32)\n",
    "df_class1.hist(ax=axs[0,1],bins=32)\n",
    "df_class2.hist(ax=axs[1,0],bins=32)\n",
    "df_class3.hist(ax=axs[1,1],bins=32)"
   ]
  },
  {
   "cell_type": "code",
   "execution_count": null,
   "metadata": {
    "_cell_guid": "f269fc3e-92da-470a-89ba-83cc51c07272",
    "_execution_state": "idle",
    "_uuid": "bbedf1d3f83cf7ae6b4ff65f979479a44b03bfe0",
    "tags": []
   },
   "outputs": [],
   "source": [
    "# 각 카테고리에 대해 Gaussian distribution 적용\n",
    "# Normal : 1\n",
    "# Anomaly : -1 \n",
    "envelope =  EllipticEnvelope(contamination = outliers_fraction) \n",
    "\n",
    "# WeekEndNight(주말 저녁)에 대한 gaussian distribution 생성\n",
    "X_train = df_class0.values.reshape(-1,1)\n",
    "envelope.fit(X_train)\n",
    "df_class0 = pd.DataFrame(df_class0)\n",
    "df_class0['deviation'] = envelope.decision_function(X_train)\n",
    "df_class0['anomaly'] = envelope.predict(X_train)\n",
    "\n",
    "# WeokEndLight(주말 낮)에 대한 gaussian distribution 생성\n",
    "envelope =  EllipticEnvelope(contamination = outliers_fraction) \n",
    "X_train = df_class1.values.reshape(-1,1)\n",
    "envelope.fit(X_train)\n",
    "df_class1 = pd.DataFrame(df_class1)\n",
    "df_class1['deviation'] = envelope.decision_function(X_train)\n",
    "df_class1['anomaly'] = envelope.predict(X_train)\n",
    "\n",
    "# WeekDayNight(평일 저녁)에 대한 gaussian distribution 생성\n",
    "envelope =  EllipticEnvelope(contamination = outliers_fraction) \n",
    "X_train = df_class2.values.reshape(-1,1)\n",
    "envelope.fit(X_train)\n",
    "df_class2 = pd.DataFrame(df_class2)\n",
    "df_class2['deviation'] = envelope.decision_function(X_train)\n",
    "df_class2['anomaly'] = envelope.predict(X_train)\n",
    "\n",
    "# WeekDayLight(평일 낮)에 대한 gaussian distribution 생성\n",
    "envelope =  EllipticEnvelope(contamination = outliers_fraction) \n",
    "X_train = df_class3.values.reshape(-1,1)\n",
    "envelope.fit(X_train)\n",
    "df_class3 = pd.DataFrame(df_class3)\n",
    "df_class3['deviation'] = envelope.decision_function(X_train)\n",
    "df_class3['anomaly'] = envelope.predict(X_train)"
   ]
  },
  {
   "cell_type": "code",
   "execution_count": null,
   "metadata": {
    "_cell_guid": "b309d1b4-3bfe-4803-85c0-f03b71bb00fc",
    "_execution_state": "idle",
    "_uuid": "f622f36a8c6d0d1abfde310cf25a0ff5ddba1c78"
   },
   "outputs": [],
   "source": [
    "# 각 카테고리들과 anomaly가 포함된 temperature 분포 plot\n",
    "a0 = df_class0.loc[df_class0['anomaly'] == 1, 'value']\n",
    "b0 = df_class0.loc[df_class0['anomaly'] == -1, 'value']\n",
    "\n",
    "a1 = df_class1.loc[df_class1['anomaly'] == 1, 'value']\n",
    "b1 = df_class1.loc[df_class1['anomaly'] == -1, 'value']\n",
    "\n",
    "a2 = df_class2.loc[df_class2['anomaly'] == 1, 'value']\n",
    "b2 = df_class2.loc[df_class2['anomaly'] == -1, 'value']\n",
    "\n",
    "a3 = df_class3.loc[df_class3['anomaly'] == 1, 'value']\n",
    "b3 = df_class3.loc[df_class3['anomaly'] == -1, 'value']\n",
    "\n",
    "fig, axs = plt.subplots(2,2)\n",
    "axs[0,0].hist([a0,b0], bins=32, stacked=True, color=['blue', 'red'], label=['normal', 'anomaly'])\n",
    "axs[0,1].hist([a1,b1], bins=32, stacked=True, color=['blue', 'red'], label=['normal', 'anomaly'])\n",
    "axs[1,0].hist([a2,b2], bins=32, stacked=True, color=['blue', 'red'], label=['normal', 'anomaly'])\n",
    "axs[1,1].hist([a3,b3], bins=32, stacked=True, color=['blue', 'red'], label=['normal', 'anomaly'])\n",
    "axs[0,0].set_title(\"WeekEndNight\")\n",
    "axs[0,1].set_title(\"WeekEndLight\")\n",
    "axs[1,0].set_title(\"WeekDayNight\")\n",
    "axs[1,1].set_title(\"WeekDayLight\")\n",
    "plt.legend()\n",
    "plt.show()"
   ]
  },
  {
   "cell_type": "code",
   "execution_count": null,
   "metadata": {
    "_cell_guid": "771633b5-7924-4f98-9a9e-66dff0d8fb1e",
    "_execution_state": "idle",
    "_uuid": "250cab346e794bbdf6b3860e8880bb2c13d5a270",
    "tags": []
   },
   "outputs": [],
   "source": [
    "# 메인 Dataframe에 Categories + Gaussian을 사용한 anomaly detection 결과를 저장\n",
    "df_class = pd.concat([df_class0, df_class1, df_class2, df_class3])\n",
    "df['anomaly22'] = df_class['anomaly']\n",
    "df['anomaly22'] = np.array(df['anomaly22'] == -1).astype(int) "
   ]
  },
  {
   "cell_type": "code",
   "execution_count": null,
   "metadata": {
    "_cell_guid": "ea6efd5d-014d-4257-9522-5f2560f9a7df",
    "_execution_state": "idle",
    "_uuid": "533cd11f31bc2ad2b2381b38a3ee722566ddb195"
   },
   "outputs": [],
   "source": [
    "# 시간 도메인에서의 anomaly 시각화\n",
    "fig, ax = plt.subplots()\n",
    "\n",
    "a = df.loc[df['anomaly22'] == 1, ('time_epoch', 'value')] #anomaly\n",
    "\n",
    "ax.plot(df['time_epoch'], df['value'], color='blue')\n",
    "ax.scatter(a['time_epoch'],a['value'], color='red')\n",
    "plt.show()"
   ]
  },
  {
   "cell_type": "code",
   "execution_count": null,
   "metadata": {
    "_cell_guid": "9bdd7add-99b4-42c6-9d3f-3670b9f9ebcf",
    "_execution_state": "idle",
    "_uuid": "0642b30ee151c600f5d9141a1b36b69cbd328a2c"
   },
   "outputs": [],
   "source": [
    "# 온도 분포 및 anomaly 온도 분포 시각화\n",
    "# 메인 Dataframe인 df에 normal은 0으로 anomaly는 1로 저장\n",
    "a = df.loc[df['anomaly22'] == 0, 'value']\n",
    "b = df.loc[df['anomaly22'] == 1, 'value']\n",
    "\n",
    "fig, axs = plt.subplots()\n",
    "axs.hist([a,b], bins=32, stacked=True, color=['blue', 'red'], label=['normal', 'anomaly'])\n",
    "plt.legend()\n",
    "plt.show()"
   ]
  },
  {
   "cell_type": "markdown",
   "metadata": {
    "_cell_guid": "796a1096-dd90-4bfd-ba52-1fc3c0b99a16",
    "_execution_state": "idle",
    "_uuid": "2e6accac972f6adf0d907f458943ef5f2129e7df"
   },
   "source": [
    "Detect unusual sequence but not extreme value. More difficult to evaluate the relevance on this example. The sequence size (5) should be match with some interesting cycle.\n",
    "## 2.5 Isolation Forest\n",
    "#### Use for collective anomalies (unordered).\n",
    "Simple, works well with different data repartition and efficient with high dimention data."
   ]
  },
  {
   "cell_type": "code",
   "execution_count": null,
   "metadata": {
    "_cell_guid": "7b550505-0752-43a0-b21d-6dc0fd8105e2",
    "_execution_state": "idle",
    "_uuid": "0a5641fd4d56e1985f923a92f40138676a4fe54f"
   },
   "outputs": [],
   "source": [
    "# Useful한 feature 추출 및 스케일링(StandardScaler)\n",
    "data = df[['value', 'hours', 'daylight', 'DayOfTheWeek', 'WeekDay']]\n",
    "min_max_scaler = preprocessing.StandardScaler()\n",
    "np_scaled = min_max_scaler.fit_transform(data)\n",
    "data = pd.DataFrame(np_scaled)\n",
    "\n",
    "# isolation forest 학습\n",
    "# Dataset 중 outliers_fraction(0.01)에 해당하는 데이터를 anomaly로 판단\n",
    "# Normal : 1\n",
    "# Anomaly : -1\n",
    "model =  IsolationForest(contamination = outliers_fraction)\n",
    "model.fit(data)\n",
    "\n",
    "# 메인 Dataframe에 Isolation Forest를 사용한 anomaly detection 결과를 저장\n",
    "df['anomaly25'] = pd.Series(model.predict(data))\n",
    "\n",
    "# normal은 0으로, anomaly는 1로 mapping\n",
    "df['anomaly25'] = df['anomaly25'].map( {1: 0, -1: 1} )\n",
    "print(df['anomaly25'].value_counts())"
   ]
  },
  {
   "cell_type": "code",
   "execution_count": null,
   "metadata": {
    "_cell_guid": "34e8c98b-a99d-44f7-8aad-a599371b3703",
    "_execution_state": "idle",
    "_uuid": "f5ac7ddd6a6ac149c6e88664abc9fb5401756261"
   },
   "outputs": [],
   "source": [
    "# 시간 도메인에서의 anomaly 시각화\n",
    "fig, ax = plt.subplots()\n",
    "\n",
    "a = df.loc[df['anomaly25'] == 1, ['time_epoch', 'value']] #anomaly\n",
    "\n",
    "ax.plot(df['time_epoch'], df['value'], color='blue')\n",
    "ax.scatter(a['time_epoch'],a['value'], color='red')\n",
    "plt.show()"
   ]
  },
  {
   "cell_type": "code",
   "execution_count": null,
   "metadata": {
    "_cell_guid": "62a32613-6f21-46db-9212-0286be3d15dc",
    "_execution_state": "idle",
    "_uuid": "d4b909d1a62d7a5e2dd9f235d4fa31eb8d5a148f"
   },
   "outputs": [],
   "source": [
    "# 온도 분포 및 anomaly 온도 분포 시각화\n",
    "a = df.loc[df['anomaly25'] == 0, 'value']\n",
    "b = df.loc[df['anomaly25'] == 1, 'value']\n",
    "\n",
    "fig, axs = plt.subplots()\n",
    "axs.hist([a,b], bins=32, stacked=True, color=['blue', 'red'], label = ['normal', 'anomaly'])\n",
    "plt.legend()\n",
    "plt.show()"
   ]
  },
  {
   "cell_type": "markdown",
   "metadata": {
    "_cell_guid": "2c56928d-e7fa-4342-8bc5-23527ae69747",
    "_execution_state": "idle",
    "_uuid": "9c616d8efd272ea7aeddee0d8bb2a41d803209cd"
   },
   "source": [
    "## 2.6 One class SVM\n",
    "#### Use for collective anomalies (unordered).\n",
    "Good for novelty detection (no anomalies in the train set). This algorithm performs well for multimodal data."
   ]
  },
  {
   "cell_type": "code",
   "execution_count": null,
   "metadata": {
    "_cell_guid": "16aea1c0-9a4c-489a-8b0c-b9e1893fba75",
    "_execution_state": "idle",
    "_uuid": "31b6408bed29fc271174502e699f12a3dd7deb9e"
   },
   "outputs": [],
   "source": [
    "# Useful한 feature 추출 및 스케일링(StandardScaler)\n",
    "data = df[['value', 'hours', 'daylight', 'DayOfTheWeek', 'WeekDay']]\n",
    "min_max_scaler = preprocessing.StandardScaler()\n",
    "np_scaled = min_max_scaler.fit_transform(data)\n",
    "\n",
    "# One class SVM 학습\n",
    "# Dataset 중 outliers_fraction(0.01)에 해당하는 데이터를 anomaly로 판단\n",
    "# nu : SVM에서 Hypert plane 밖에 있는 데이터의 최대 비율, nu가 0.1일 경우, 최대 10%정도를 전체 데이터 중 anomaly로 가정\n",
    "# Normal : 0\n",
    "# Anomaly : 1\n",
    "model =  OneClassSVM(nu=0.95 * outliers_fraction) #nu=0.95 * outliers_fraction  + 0.05\n",
    "data = pd.DataFrame(np_scaled)\n",
    "model.fit(data)\n",
    "\n",
    "# 메인 Dataframe에 One class SVM을 사용한 anomaly detection 결과를 저장\n",
    "df['anomaly26'] = pd.Series(model.predict(data))\n",
    "df['anomaly26'] = df['anomaly26'].map( {1: 0, -1: 1} )\n",
    "print(df['anomaly26'].value_counts())"
   ]
  },
  {
   "cell_type": "code",
   "execution_count": null,
   "metadata": {
    "_cell_guid": "c1ba12cb-4035-4082-9097-f9ebe4d5a550",
    "_execution_state": "idle",
    "_uuid": "a9cd247e4b1a081f538fe18305c98ed3e67429b3"
   },
   "outputs": [],
   "source": [
    "# 시간 도메인에서의 anomaly 시각화\n",
    "fig, ax = plt.subplots()\n",
    "\n",
    "a = df.loc[df['anomaly26'] == 1, ['time_epoch', 'value']] #anomaly\n",
    "\n",
    "ax.plot(df['time_epoch'], df['value'], color='blue')\n",
    "ax.scatter(a['time_epoch'],a['value'], color='red')\n",
    "plt.show()"
   ]
  },
  {
   "cell_type": "code",
   "execution_count": null,
   "metadata": {
    "_cell_guid": "71e58d95-e373-40b4-b7a7-f153b994fdc5",
    "_execution_state": "idle",
    "_uuid": "5fd47274d72716015023ef9ea94ae54befa056b7"
   },
   "outputs": [],
   "source": [
    "# 온도 분포 및 anomaly 온도 분포 시각화\n",
    "a = df.loc[df['anomaly26'] == 0, 'value']\n",
    "b = df.loc[df['anomaly26'] == 1, 'value']\n",
    "\n",
    "fig, axs = plt.subplots()\n",
    "axs.hist([a,b], bins=32, stacked=True, color=['blue', 'red'], label=['normal', 'anomaly'])\n",
    "plt.legend()\n",
    "plt.show()"
   ]
  }
 ],
 "metadata": {
  "kernelspec": {
   "display_name": "Python 3",
   "language": "python",
   "name": "python3"
  },
  "language_info": {
   "codemirror_mode": {
    "name": "ipython",
    "version": 3
   },
   "file_extension": ".py",
   "mimetype": "text/x-python",
   "name": "python",
   "nbconvert_exporter": "python",
   "pygments_lexer": "ipython3",
   "version": "3.7.7"
  }
 },
 "nbformat": 4,
 "nbformat_minor": 4
}
