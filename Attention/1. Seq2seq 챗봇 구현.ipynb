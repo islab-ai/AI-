{
 "cells": [
  {
   "cell_type": "code",
   "execution_count": 1,
   "metadata": {},
   "outputs": [],
   "source": [
    "from preprocess import *"
   ]
  },
  {
   "cell_type": "code",
   "execution_count": 2,
   "metadata": {},
   "outputs": [],
   "source": [
    "PATH = 'data_in/ChatBotData.csv_short'\n",
    "VOCAB_PATH = 'data_in/vocabulary.txt'"
   ]
  },
  {
   "cell_type": "code",
   "execution_count": 3,
   "metadata": {},
   "outputs": [],
   "source": [
    "inputs, outputs = load_data(PATH)"
   ]
  },
  {
   "cell_type": "code",
   "execution_count": 4,
   "metadata": {},
   "outputs": [
    {
     "data": {
      "text/plain": [
       "['가끔 궁금해', '가끔 뭐하는지 궁금해', '가끔은 혼자인게 좋다', '가난한 자의 설움', '가만 있어도 땀난다']"
      ]
     },
     "execution_count": 4,
     "metadata": {},
     "output_type": "execute_result"
    }
   ],
   "source": [
    "inputs[:5]"
   ]
  },
  {
   "cell_type": "code",
   "execution_count": 5,
   "metadata": {},
   "outputs": [
    {
     "data": {
      "text/plain": [
       "['그 사람도 그럴 거예요.', '그 사람도 그럴 거예요.', '혼자를 즐기세요.', '돈은 다시 들어올 거예요.', '땀을 식혀주세요.']"
      ]
     },
     "execution_count": 5,
     "metadata": {},
     "output_type": "execute_result"
    }
   ],
   "source": [
    "outputs[:5]"
   ]
  },
  {
   "cell_type": "code",
   "execution_count": 6,
   "metadata": {},
   "outputs": [],
   "source": [
    "char2idx, idx2char, vocab_size = load_vocabulary(PATH, VOCAB_PATH)"
   ]
  },
  {
   "cell_type": "code",
   "execution_count": 7,
   "metadata": {},
   "outputs": [
    {
     "data": {
      "text/plain": [
       "{'<PAD>': 0,\n",
       " '<SOS>': 1,\n",
       " '<EOS>': 2,\n",
       " '<UNK>': 3,\n",
       " '생각해보세요': 4,\n",
       " '감기': 5,\n",
       " '나갔어': 6,\n",
       " '질린다': 7,\n",
       " '다시': 8,\n",
       " '나라를': 9,\n",
       " '적당히': 10,\n",
       " '같아': 11,\n",
       " '따라': 12,\n",
       " '걸리겠어': 13,\n",
       " '해보세요': 14,\n",
       " '설움': 15,\n",
       " '같아요': 16,\n",
       " '비싼데': 17,\n",
       " '훈훈해': 18,\n",
       " '결단은': 19,\n",
       " '갔어': 20,\n",
       " '가만': 21,\n",
       " '게': 22,\n",
       " '또': 23,\n",
       " '남자친구가': 24,\n",
       " '가난한': 25,\n",
       " '교회': 26,\n",
       " '어서': 27,\n",
       " '뭐가': 28,\n",
       " '빠를수록': 29,\n",
       " '가스비': 30,\n",
       " '거예요': 31,\n",
       " '사세요': 32,\n",
       " '잘생겼어': 33,\n",
       " '많이': 34,\n",
       " '나온거': 35,\n",
       " '평소에': 36,\n",
       " '그럴': 37,\n",
       " '가끔은': 38,\n",
       " '나오세요': 39,\n",
       " '집에': 40,\n",
       " '해': 41,\n",
       " '더': 42,\n",
       " '때까지': 43,\n",
       " '좀': 44,\n",
       " '뭐하는지': 45,\n",
       " '궁금해': 46,\n",
       " '마음을': 47,\n",
       " '선물로': 48,\n",
       " '운동을': 49,\n",
       " '혼자를': 50,\n",
       " '그': 51,\n",
       " '나왔다': 52,\n",
       " '안': 53,\n",
       " '켜놓고': 54,\n",
       " '필요했던': 55,\n",
       " '끄고': 56,\n",
       " '바빠': 57,\n",
       " '즐기세요': 58,\n",
       " '필요한': 59,\n",
       " '망함': 60,\n",
       " '좋다': 61,\n",
       " '운동만': 62,\n",
       " '좋아요': 63,\n",
       " '좋을까': 64,\n",
       " '믿어줘': 65,\n",
       " '전생에': 66,\n",
       " '가끔': 67,\n",
       " '가상화폐': 68,\n",
       " '구하셨나요': 69,\n",
       " '절약해봐요': 70,\n",
       " '달에는': 71,\n",
       " '켜고': 72,\n",
       " '따뜻하게': 73,\n",
       " '오늘': 74,\n",
       " '자의': 75,\n",
       " '함께': 76,\n",
       " '집착하지': 77,\n",
       " '남자친구': 78,\n",
       " '잊고': 79,\n",
       " '싶어': 80,\n",
       " '가스불': 81,\n",
       " '좋을': 82,\n",
       " '승진': 83,\n",
       " '거짓말': 84,\n",
       " '보인다': 85,\n",
       " '나': 86,\n",
       " '사람도': 87,\n",
       " '설득해보세요': 88,\n",
       " '땀난다': 89,\n",
       " '뭘': 90,\n",
       " '혼자인게': 91,\n",
       " '들어올': 92,\n",
       " '식혀주세요': 93,\n",
       " '데려가고': 94,\n",
       " '돈은': 95,\n",
       " '다음': 96,\n",
       " '새출발': 97,\n",
       " '운동': 98,\n",
       " '있어도': 99,\n",
       " '줄까': 100,\n",
       " '너무': 101,\n",
       " '하세요': 102,\n",
       " '돌아가서': 103,\n",
       " '쫄딱': 104,\n",
       " '것': 105,\n",
       " '생일인데': 106,\n",
       " '땀을': 107,\n",
       " '열': 108,\n",
       " '빨리': 109,\n",
       " '마세요': 110}"
      ]
     },
     "execution_count": 7,
     "metadata": {},
     "output_type": "execute_result"
    }
   ],
   "source": [
    "char2idx"
   ]
  },
  {
   "cell_type": "code",
   "execution_count": 8,
   "metadata": {},
   "outputs": [
    {
     "data": {
      "text/plain": [
       "{0: '<PAD>',\n",
       " 1: '<SOS>',\n",
       " 2: '<EOS>',\n",
       " 3: '<UNK>',\n",
       " 4: '생각해보세요',\n",
       " 5: '감기',\n",
       " 6: '나갔어',\n",
       " 7: '질린다',\n",
       " 8: '다시',\n",
       " 9: '나라를',\n",
       " 10: '적당히',\n",
       " 11: '같아',\n",
       " 12: '따라',\n",
       " 13: '걸리겠어',\n",
       " 14: '해보세요',\n",
       " 15: '설움',\n",
       " 16: '같아요',\n",
       " 17: '비싼데',\n",
       " 18: '훈훈해',\n",
       " 19: '결단은',\n",
       " 20: '갔어',\n",
       " 21: '가만',\n",
       " 22: '게',\n",
       " 23: '또',\n",
       " 24: '남자친구가',\n",
       " 25: '가난한',\n",
       " 26: '교회',\n",
       " 27: '어서',\n",
       " 28: '뭐가',\n",
       " 29: '빠를수록',\n",
       " 30: '가스비',\n",
       " 31: '거예요',\n",
       " 32: '사세요',\n",
       " 33: '잘생겼어',\n",
       " 34: '많이',\n",
       " 35: '나온거',\n",
       " 36: '평소에',\n",
       " 37: '그럴',\n",
       " 38: '가끔은',\n",
       " 39: '나오세요',\n",
       " 40: '집에',\n",
       " 41: '해',\n",
       " 42: '더',\n",
       " 43: '때까지',\n",
       " 44: '좀',\n",
       " 45: '뭐하는지',\n",
       " 46: '궁금해',\n",
       " 47: '마음을',\n",
       " 48: '선물로',\n",
       " 49: '운동을',\n",
       " 50: '혼자를',\n",
       " 51: '그',\n",
       " 52: '나왔다',\n",
       " 53: '안',\n",
       " 54: '켜놓고',\n",
       " 55: '필요했던',\n",
       " 56: '끄고',\n",
       " 57: '바빠',\n",
       " 58: '즐기세요',\n",
       " 59: '필요한',\n",
       " 60: '망함',\n",
       " 61: '좋다',\n",
       " 62: '운동만',\n",
       " 63: '좋아요',\n",
       " 64: '좋을까',\n",
       " 65: '믿어줘',\n",
       " 66: '전생에',\n",
       " 67: '가끔',\n",
       " 68: '가상화폐',\n",
       " 69: '구하셨나요',\n",
       " 70: '절약해봐요',\n",
       " 71: '달에는',\n",
       " 72: '켜고',\n",
       " 73: '따뜻하게',\n",
       " 74: '오늘',\n",
       " 75: '자의',\n",
       " 76: '함께',\n",
       " 77: '집착하지',\n",
       " 78: '남자친구',\n",
       " 79: '잊고',\n",
       " 80: '싶어',\n",
       " 81: '가스불',\n",
       " 82: '좋을',\n",
       " 83: '승진',\n",
       " 84: '거짓말',\n",
       " 85: '보인다',\n",
       " 86: '나',\n",
       " 87: '사람도',\n",
       " 88: '설득해보세요',\n",
       " 89: '땀난다',\n",
       " 90: '뭘',\n",
       " 91: '혼자인게',\n",
       " 92: '들어올',\n",
       " 93: '식혀주세요',\n",
       " 94: '데려가고',\n",
       " 95: '돈은',\n",
       " 96: '다음',\n",
       " 97: '새출발',\n",
       " 98: '운동',\n",
       " 99: '있어도',\n",
       " 100: '줄까',\n",
       " 101: '너무',\n",
       " 102: '하세요',\n",
       " 103: '돌아가서',\n",
       " 104: '쫄딱',\n",
       " 105: '것',\n",
       " 106: '생일인데',\n",
       " 107: '땀을',\n",
       " 108: '열',\n",
       " 109: '빨리',\n",
       " 110: '마세요'}"
      ]
     },
     "execution_count": 8,
     "metadata": {},
     "output_type": "execute_result"
    }
   ],
   "source": [
    "idx2char"
   ]
  },
  {
   "cell_type": "code",
   "execution_count": 9,
   "metadata": {},
   "outputs": [],
   "source": [
    "index_inputs = enc_processing(inputs, char2idx)\n",
    "index_outputs = dec_output_processing(outputs, char2idx)\n",
    "index_targets = dec_target_processing(outputs, char2idx)"
   ]
  },
  {
   "cell_type": "code",
   "execution_count": 10,
   "metadata": {},
   "outputs": [],
   "source": [
    "data_configs = {}\n",
    "data_configs['char2idx'] = char2idx\n",
    "data_configs['idx2char'] = idx2char\n",
    "data_configs['vocab_size'] = vocab_size\n",
    "data_configs['pad_symbol'] = PAD\n",
    "data_configs['sos_symbol'] = SOS\n",
    "data_configs['eos_symbol'] = EOS\n",
    "data_configs['unk_symbol'] = UNK"
   ]
  },
  {
   "cell_type": "code",
   "execution_count": 11,
   "metadata": {},
   "outputs": [],
   "source": [
    "DATA_IN_PATH = './data_in/'\n",
    "TRAIN_INPUTS = 'train_inputs.npy'\n",
    "TRAIN_OUTPUTS = 'train_outputs.npy'\n",
    "TRAIN_TARGETS = 'train_targets.npy'\n",
    "DATA_CONFIGS = 'data_configs.json'\n",
    "\n",
    "np.save(open(DATA_IN_PATH + TRAIN_INPUTS, 'wb'), index_inputs)\n",
    "np.save(open(DATA_IN_PATH + TRAIN_OUTPUTS , 'wb'), index_outputs)\n",
    "np.save(open(DATA_IN_PATH + TRAIN_TARGETS , 'wb'), index_targets)\n",
    "\n",
    "json.dump(data_configs, open(DATA_IN_PATH + DATA_CONFIGS, 'w'))"
   ]
  },
  {
   "cell_type": "code",
   "execution_count": 12,
   "metadata": {},
   "outputs": [
    {
     "data": {
      "text/plain": [
       "['가끔 궁금해', '가끔 뭐하는지 궁금해', '가끔은 혼자인게 좋다']"
      ]
     },
     "execution_count": 12,
     "metadata": {},
     "output_type": "execute_result"
    }
   ],
   "source": [
    "inputs[:3]"
   ]
  },
  {
   "cell_type": "code",
   "execution_count": 13,
   "metadata": {},
   "outputs": [
    {
     "data": {
      "text/plain": [
       "array([[67, 46,  0,  0,  0,  0,  0,  0,  0,  0,  0,  0,  0,  0,  0,  0,\n",
       "         0,  0,  0,  0,  0,  0,  0,  0,  0],\n",
       "       [67, 45, 46,  0,  0,  0,  0,  0,  0,  0,  0,  0,  0,  0,  0,  0,\n",
       "         0,  0,  0,  0,  0,  0,  0,  0,  0],\n",
       "       [38, 91, 61,  0,  0,  0,  0,  0,  0,  0,  0,  0,  0,  0,  0,  0,\n",
       "         0,  0,  0,  0,  0,  0,  0,  0,  0]])"
      ]
     },
     "execution_count": 13,
     "metadata": {},
     "output_type": "execute_result"
    }
   ],
   "source": [
    "index_inputs[:3]"
   ]
  },
  {
   "cell_type": "code",
   "execution_count": 14,
   "metadata": {},
   "outputs": [
    {
     "data": {
      "text/plain": [
       "['그 사람도 그럴 거예요.', '그 사람도 그럴 거예요.', '혼자를 즐기세요.']"
      ]
     },
     "execution_count": 14,
     "metadata": {},
     "output_type": "execute_result"
    }
   ],
   "source": [
    "outputs[:3]"
   ]
  },
  {
   "cell_type": "code",
   "execution_count": 15,
   "metadata": {},
   "outputs": [
    {
     "data": {
      "text/plain": [
       "array([[ 1, 51, 87, 37, 31,  0,  0,  0,  0,  0,  0,  0,  0,  0,  0,  0,\n",
       "         0,  0,  0,  0,  0,  0,  0,  0,  0],\n",
       "       [ 1, 51, 87, 37, 31,  0,  0,  0,  0,  0,  0,  0,  0,  0,  0,  0,\n",
       "         0,  0,  0,  0,  0,  0,  0,  0,  0],\n",
       "       [ 1, 50, 58,  0,  0,  0,  0,  0,  0,  0,  0,  0,  0,  0,  0,  0,\n",
       "         0,  0,  0,  0,  0,  0,  0,  0,  0]])"
      ]
     },
     "execution_count": 15,
     "metadata": {},
     "output_type": "execute_result"
    }
   ],
   "source": [
    "index_outputs[:3]"
   ]
  },
  {
   "cell_type": "code",
   "execution_count": 16,
   "metadata": {},
   "outputs": [
    {
     "data": {
      "text/plain": [
       "array([[51, 87, 37, 31,  2,  0,  0,  0,  0,  0,  0,  0,  0,  0,  0,  0,\n",
       "         0,  0,  0,  0,  0,  0,  0,  0,  0],\n",
       "       [51, 87, 37, 31,  2,  0,  0,  0,  0,  0,  0,  0,  0,  0,  0,  0,\n",
       "         0,  0,  0,  0,  0,  0,  0,  0,  0],\n",
       "       [50, 58,  2,  0,  0,  0,  0,  0,  0,  0,  0,  0,  0,  0,  0,  0,\n",
       "         0,  0,  0,  0,  0,  0,  0,  0,  0]])"
      ]
     },
     "execution_count": 16,
     "metadata": {},
     "output_type": "execute_result"
    }
   ],
   "source": [
    "index_targets[:3]"
   ]
  },
  {
   "cell_type": "markdown",
   "metadata": {},
   "source": [
    "# 패키지 불러오기"
   ]
  },
  {
   "cell_type": "code",
   "execution_count": 17,
   "metadata": {},
   "outputs": [],
   "source": [
    "import tensorflow as tf\n",
    "import numpy as np\n",
    "import os\n",
    "\n",
    "from tensorflow.keras.callbacks import EarlyStopping, ModelCheckpoint\n",
    "import matplotlib.pyplot as plt\n",
    "\n",
    "from preprocess import *"
   ]
  },
  {
   "cell_type": "markdown",
   "metadata": {},
   "source": [
    "# 시각화 함수"
   ]
  },
  {
   "cell_type": "code",
   "execution_count": 18,
   "metadata": {},
   "outputs": [],
   "source": [
    "def plot_graphs(history, string):\n",
    "    plt.plot(history.history[string])\n",
    "    plt.plot(history.history['val_'+string], '')\n",
    "    plt.xlabel(\"Epochs\")\n",
    "    plt.ylabel(string)\n",
    "    plt.legend([string, 'val_'+string])\n",
    "    plt.show()"
   ]
  },
  {
   "cell_type": "markdown",
   "metadata": {},
   "source": [
    "# 학습 데이터 경로 정의"
   ]
  },
  {
   "cell_type": "code",
   "execution_count": 19,
   "metadata": {},
   "outputs": [],
   "source": [
    "DATA_IN_PATH = './data_in/'\n",
    "DATA_OUT_PATH = './data_out/'\n",
    "TRAIN_INPUTS = 'train_inputs.npy'\n",
    "TRAIN_OUTPUTS = 'train_outputs.npy'\n",
    "TRAIN_TARGETS = 'train_targets.npy'\n",
    "DATA_CONFIGS = 'data_configs.json'"
   ]
  },
  {
   "cell_type": "markdown",
   "metadata": {},
   "source": [
    "# 랜덤 시드 고정"
   ]
  },
  {
   "cell_type": "code",
   "execution_count": 20,
   "metadata": {},
   "outputs": [],
   "source": [
    "SEED_NUM = 1234\n",
    "tf.random.set_seed(SEED_NUM)"
   ]
  },
  {
   "cell_type": "markdown",
   "metadata": {},
   "source": [
    "# 파일 로드"
   ]
  },
  {
   "cell_type": "code",
   "execution_count": 21,
   "metadata": {},
   "outputs": [],
   "source": [
    "index_inputs = np.load(open(DATA_IN_PATH + TRAIN_INPUTS, 'rb'))\n",
    "index_outputs = np.load(open(DATA_IN_PATH + TRAIN_OUTPUTS , 'rb'))\n",
    "index_targets = np.load(open(DATA_IN_PATH + TRAIN_TARGETS , 'rb'))\n",
    "prepro_configs = json.load(open(DATA_IN_PATH + DATA_CONFIGS, 'r'))"
   ]
  },
  {
   "cell_type": "code",
   "execution_count": 22,
   "metadata": {},
   "outputs": [
    {
     "name": "stdout",
     "output_type": "stream",
     "text": [
      "20 20 20\n"
     ]
    }
   ],
   "source": [
    "# Show length\n",
    "print(len(index_inputs),  len(index_outputs), len(index_targets))"
   ]
  },
  {
   "cell_type": "markdown",
   "metadata": {},
   "source": [
    "## 모델 만들기에 필요한 값 선언"
   ]
  },
  {
   "cell_type": "code",
   "execution_count": 23,
   "metadata": {},
   "outputs": [],
   "source": [
    "MODEL_NAME = 'seq2seq_kor'\n",
    "BATCH_SIZE = 2\n",
    "MAX_SEQUENCE = 25\n",
    "EPOCH = 10\n",
    "UNITS = 1024\n",
    "EMBEDDING_DIM = 256\n",
    "VALIDATION_SPLIT = 0.1 \n",
    "\n",
    "char2idx = prepro_configs['char2idx']\n",
    "idx2char = prepro_configs['idx2char']\n",
    "sos_index = prepro_configs['sos_symbol']\n",
    "eos_index = prepro_configs['eos_symbol']\n",
    "vocab_size = prepro_configs['vocab_size']"
   ]
  },
  {
   "cell_type": "markdown",
   "metadata": {},
   "source": [
    "# 모델 "
   ]
  },
  {
   "cell_type": "markdown",
   "metadata": {},
   "source": [
    "## 인코더"
   ]
  },
  {
   "cell_type": "code",
   "execution_count": 24,
   "metadata": {},
   "outputs": [],
   "source": [
    "class Encoder(tf.keras.layers.Layer):\n",
    "    def __init__(self, vocab_size, embedding_dim, enc_units, batch_sz):\n",
    "        super(Encoder, self).__init__()\n",
    "        self.batch_sz = batch_sz\n",
    "        self.enc_units = enc_units\n",
    "        self.vocab_size = vocab_size \n",
    "        self.embedding_dim = embedding_dim          \n",
    "        \n",
    "        self.embedding = tf.keras.layers.Embedding(self.vocab_size, self.embedding_dim)\n",
    "        self.gru = tf.keras.layers.GRU(self.enc_units,\n",
    "                                       return_sequences=True,\n",
    "                                       return_state=True,\n",
    "                                       recurrent_initializer='glorot_uniform')\n",
    "\n",
    "    def call(self, x, hidden):\n",
    "        x = self.embedding(x)\n",
    "        output, state = self.gru(x, initial_state = hidden)\n",
    "        return output, state\n",
    "\n",
    "    def initialize_hidden_state(self, inp):\n",
    "        return tf.zeros((tf.shape(inp)[0], self.enc_units))"
   ]
  },
  {
   "cell_type": "markdown",
   "metadata": {},
   "source": [
    "## 어텐션"
   ]
  },
  {
   "cell_type": "code",
   "execution_count": 25,
   "metadata": {},
   "outputs": [],
   "source": [
    "class BahdanauAttention(tf.keras.layers.Layer):\n",
    "    def __init__(self, units):\n",
    "        super(BahdanauAttention, self).__init__()\n",
    "        self.W1 = tf.keras.layers.Dense(units)\n",
    "        self.W2 = tf.keras.layers.Dense(units)\n",
    "        self.V = tf.keras.layers.Dense(1)\n",
    "\n",
    "    def call(self, query, values):\n",
    "        hidden_with_time_axis = tf.expand_dims(query, 1)\n",
    "\n",
    "        score = self.V(tf.nn.tanh(\n",
    "            self.W1(values) + self.W2(hidden_with_time_axis)))\n",
    "\n",
    "        attention_weights = tf.nn.softmax(score, axis=1)\n",
    "\n",
    "        context_vector = attention_weights * values\n",
    "        context_vector = tf.reduce_sum(context_vector, axis=1)\n",
    "\n",
    "        return context_vector, attention_weights"
   ]
  },
  {
   "cell_type": "markdown",
   "metadata": {},
   "source": [
    "## 디코더"
   ]
  },
  {
   "cell_type": "code",
   "execution_count": 26,
   "metadata": {},
   "outputs": [],
   "source": [
    "class Decoder(tf.keras.layers.Layer):\n",
    "    def __init__(self, vocab_size, embedding_dim, dec_units, batch_sz):\n",
    "        super(Decoder, self).__init__()\n",
    "        \n",
    "        self.batch_sz = batch_sz\n",
    "        self.dec_units = dec_units\n",
    "        self.vocab_size = vocab_size \n",
    "        self.embedding_dim = embedding_dim  \n",
    "        \n",
    "        self.embedding = tf.keras.layers.Embedding(self.vocab_size, self.embedding_dim)\n",
    "        self.gru = tf.keras.layers.GRU(self.dec_units,\n",
    "                                       return_sequences=True,\n",
    "                                       return_state=True,\n",
    "                                       recurrent_initializer='glorot_uniform')\n",
    "        self.fc = tf.keras.layers.Dense(self.vocab_size)\n",
    "\n",
    "        self.attention = BahdanauAttention(self.dec_units)\n",
    "        \n",
    "    def call(self, x, hidden, enc_output):\n",
    "        context_vector, attention_weights = self.attention(hidden, enc_output)\n",
    "\n",
    "        x = self.embedding(x)\n",
    "\n",
    "        x = tf.concat([tf.expand_dims(context_vector, 1), x], axis=-1)\n",
    "\n",
    "        output, state = self.gru(x)\n",
    "        output = tf.reshape(output, (-1, output.shape[2]))\n",
    "            \n",
    "        x = self.fc(output)\n",
    "        \n",
    "        return x, state, attention_weights"
   ]
  },
  {
   "cell_type": "code",
   "execution_count": 27,
   "metadata": {},
   "outputs": [],
   "source": [
    "optimizer = tf.keras.optimizers.Adam()\n",
    "\n",
    "loss_object = tf.keras.losses.SparseCategoricalCrossentropy(from_logits=True, reduction='none')\n",
    "\n",
    "train_accuracy = tf.keras.metrics.SparseCategoricalAccuracy(name='accuracy')\n",
    "\n",
    "def loss(real, pred):\n",
    "    mask = tf.math.logical_not(tf.math.equal(real, 0))\n",
    "    loss_ = loss_object(real, pred)\n",
    "    mask = tf.cast(mask, dtype=loss_.dtype)\n",
    "    loss_ *= mask\n",
    "    return tf.reduce_mean(loss_)\n",
    "\n",
    "def accuracy(real, pred):\n",
    "    mask = tf.math.logical_not(tf.math.equal(real, 0))\n",
    "    mask = tf.expand_dims(tf.cast(mask, dtype=pred.dtype), axis=-1)\n",
    "    pred *= mask    \n",
    "    acc = train_accuracy(real, pred)\n",
    "\n",
    "    return tf.reduce_mean(acc)"
   ]
  },
  {
   "cell_type": "markdown",
   "metadata": {},
   "source": [
    "## 시퀀스 투 스퀀스 모델"
   ]
  },
  {
   "cell_type": "code",
   "execution_count": 28,
   "metadata": {},
   "outputs": [],
   "source": [
    "class seq2seq(tf.keras.Model):\n",
    "    def __init__(self, vocab_size, embedding_dim, enc_units, dec_units, batch_sz, end_token_idx=2):    \n",
    "        super(seq2seq, self).__init__()\n",
    "        self.end_token_idx = end_token_idx\n",
    "        self.encoder = Encoder(vocab_size, embedding_dim, enc_units, batch_sz) \n",
    "        self.decoder = Decoder(vocab_size, embedding_dim, dec_units, batch_sz) \n",
    "\n",
    "    def call(self, x):\n",
    "        inp, tar = x\n",
    "        \n",
    "        enc_hidden = self.encoder.initialize_hidden_state(inp)\n",
    "        enc_output, enc_hidden = self.encoder(inp, enc_hidden)\n",
    "\n",
    "        dec_hidden = enc_hidden\n",
    "\n",
    "        predict_tokens = list()\n",
    "        for t in range(0, tar.shape[1]):\n",
    "            dec_input = tf.dtypes.cast(tf.expand_dims(tar[:, t], 1), tf.float32) \n",
    "            predictions, dec_hidden, _ = self.decoder(dec_input, dec_hidden, enc_output)\n",
    "            predict_tokens.append(tf.dtypes.cast(predictions, tf.float32))   \n",
    "        return tf.stack(predict_tokens, axis=1)\n",
    "    \n",
    "    def inference(self, x):\n",
    "        inp  = x\n",
    "\n",
    "        enc_hidden = self.encoder.initialize_hidden_state(inp)\n",
    "        enc_output, enc_hidden = self.encoder(inp, enc_hidden)\n",
    "\n",
    "        dec_hidden = enc_hidden\n",
    "        \n",
    "        dec_input = tf.expand_dims([char2idx[sos_index]], 1)\n",
    "        \n",
    "        predict_tokens = list()\n",
    "        for t in range(0, MAX_SEQUENCE):\n",
    "            predictions, dec_hidden, _ = self.decoder(dec_input, dec_hidden, enc_output)\n",
    "            predict_token = tf.argmax(predictions[0])\n",
    "            \n",
    "            if predict_token == self.end_token_idx:\n",
    "                break\n",
    "            \n",
    "            predict_tokens.append(predict_token)\n",
    "            dec_input = tf.dtypes.cast(tf.expand_dims([predict_token], 0), tf.float32)   \n",
    "            \n",
    "        return tf.stack(predict_tokens, axis=0).numpy()"
   ]
  },
  {
   "cell_type": "code",
   "execution_count": 29,
   "metadata": {},
   "outputs": [],
   "source": [
    "model = seq2seq(vocab_size, EMBEDDING_DIM, UNITS, UNITS, BATCH_SIZE, char2idx[eos_index])\n",
    "model.compile(loss=loss, optimizer=tf.keras.optimizers.Adam(1e-3), metrics=[accuracy])"
   ]
  },
  {
   "cell_type": "markdown",
   "metadata": {},
   "source": [
    "## 학습 진행"
   ]
  },
  {
   "cell_type": "code",
   "execution_count": 30,
   "metadata": {
    "scrolled": true,
    "tags": []
   },
   "outputs": [
    {
     "name": "stdout",
     "output_type": "stream",
     "text": [
      "Epoch 1/10\n",
      "9/9 [==============================] - 27s 1s/step - loss: 0.9167 - accuracy: 0.8170 - val_loss: 0.7008 - val_accuracy: 0.8540\n",
      "\n",
      "Epoch 00001: val_accuracy improved from -inf to 0.85400, saving model to ./data_out/seq2seq_kor/weights.h5\n",
      "Epoch 2/10\n",
      "9/9 [==============================] - 5s 597ms/step - loss: 0.8371 - accuracy: 0.8527 - val_loss: 0.6178 - val_accuracy: 0.8560\n",
      "\n",
      "Epoch 00002: val_accuracy improved from 0.85400 to 0.85600, saving model to ./data_out/seq2seq_kor/weights.h5\n",
      "Epoch 3/10\n",
      "9/9 [==============================] - 5s 574ms/step - loss: 0.6718 - accuracy: 0.8569 - val_loss: 0.5604 - val_accuracy: 0.8567\n",
      "\n",
      "Epoch 00003: val_accuracy improved from 0.85600 to 0.85667, saving model to ./data_out/seq2seq_kor/weights.h5\n",
      "Epoch 4/10\n",
      "9/9 [==============================] - 5s 557ms/step - loss: 0.5953 - accuracy: 0.8574 - val_loss: 0.5531 - val_accuracy: 0.8570\n",
      "\n",
      "Epoch 00004: val_accuracy improved from 0.85667 to 0.85700, saving model to ./data_out/seq2seq_kor/weights.h5\n",
      "Epoch 5/10\n",
      "9/9 [==============================] - 5s 541ms/step - loss: 0.5587 - accuracy: 0.8570 - val_loss: 0.5031 - val_accuracy: 0.8572\n",
      "\n",
      "Epoch 00005: val_accuracy improved from 0.85700 to 0.85720, saving model to ./data_out/seq2seq_kor/weights.h5\n",
      "Epoch 6/10\n",
      "9/9 [==============================] - 5s 534ms/step - loss: 0.5726 - accuracy: 0.8564 - val_loss: 0.4486 - val_accuracy: 0.8580\n",
      "\n",
      "Epoch 00006: val_accuracy improved from 0.85720 to 0.85800, saving model to ./data_out/seq2seq_kor/weights.h5\n",
      "Epoch 7/10\n",
      "9/9 [==============================] - 5s 539ms/step - loss: 0.4808 - accuracy: 0.8586 - val_loss: 0.4140 - val_accuracy: 0.8594\n",
      "\n",
      "Epoch 00007: val_accuracy improved from 0.85800 to 0.85943, saving model to ./data_out/seq2seq_kor/weights.h5\n",
      "Epoch 8/10\n",
      "9/9 [==============================] - 5s 533ms/step - loss: 0.4234 - accuracy: 0.8607 - val_loss: 0.3723 - val_accuracy: 0.8625\n",
      "\n",
      "Epoch 00008: val_accuracy improved from 0.85943 to 0.86250, saving model to ./data_out/seq2seq_kor/weights.h5\n",
      "Epoch 9/10\n",
      "9/9 [==============================] - 5s 544ms/step - loss: 0.3858 - accuracy: 0.8642 - val_loss: 0.3327 - val_accuracy: 0.8676\n",
      "\n",
      "Epoch 00009: val_accuracy improved from 0.86250 to 0.86756, saving model to ./data_out/seq2seq_kor/weights.h5\n",
      "Epoch 10/10\n",
      "9/9 [==============================] - 5s 548ms/step - loss: 0.3430 - accuracy: 0.8698 - val_loss: 0.2726 - val_accuracy: 0.8746\n",
      "\n",
      "Epoch 00010: val_accuracy improved from 0.86756 to 0.87460, saving model to ./data_out/seq2seq_kor/weights.h5\n"
     ]
    }
   ],
   "source": [
    "PATH = DATA_OUT_PATH + MODEL_NAME\n",
    "if not(os.path.isdir(PATH)):\n",
    "        os.makedirs(os.path.join(PATH))\n",
    "        \n",
    "checkpoint_path = DATA_OUT_PATH + MODEL_NAME + '/weights.h5'\n",
    "    \n",
    "cp_callback = ModelCheckpoint(\n",
    "    checkpoint_path, monitor='val_accuracy', verbose=1, save_best_only=True, save_weights_only=True)\n",
    "\n",
    "earlystop_callback = EarlyStopping(monitor='val_accuracy', min_delta=0.0001, patience=10)\n",
    "\n",
    "history = model.fit([index_inputs, index_outputs], index_targets,\n",
    "                    batch_size=BATCH_SIZE, epochs=EPOCH,\n",
    "                    validation_split=VALIDATION_SPLIT, callbacks=[earlystop_callback, cp_callback])"
   ]
  },
  {
   "cell_type": "markdown",
   "metadata": {},
   "source": [
    "## 결과 플롯"
   ]
  },
  {
   "cell_type": "code",
   "execution_count": 31,
   "metadata": {},
   "outputs": [
    {
     "data": {
      "image/png": "[encoded data removed]",
      "text/plain": [
       "<Figure size 432x288 with 1 Axes>"
      ]
     },
     "metadata": {
      "needs_background": "light"
     },
     "output_type": "display_data"
    }
   ],
   "source": [
    "plot_graphs(history, 'accuracy')"
   ]
  },
  {
   "cell_type": "code",
   "execution_count": 32,
   "metadata": {},
   "outputs": [
    {
     "data": {
      "image/png": "[encoded data removed]",
      "text/plain": [
       "<Figure size 432x288 with 1 Axes>"
      ]
     },
     "metadata": {
      "needs_background": "light"
     },
     "output_type": "display_data"
    }
   ],
   "source": [
    "plot_graphs(history, 'loss')"
   ]
  },
  {
   "cell_type": "markdown",
   "metadata": {},
   "source": [
    "### 결과 확인"
   ]
  },
  {
   "cell_type": "code",
   "execution_count": 33,
   "metadata": {},
   "outputs": [],
   "source": [
    "SAVE_FILE_NM = \"weights.h5\"\n",
    "model.load_weights(os.path.join(DATA_OUT_PATH, MODEL_NAME, SAVE_FILE_NM))"
   ]
  },
  {
   "cell_type": "code",
   "execution_count": 34,
   "metadata": {},
   "outputs": [
    {
     "name": "stdout",
     "output_type": "stream",
     "text": [
      "[ 36  59 105   4]\n",
      "평소에 필요한 것 생각해보세요\n"
     ]
    }
   ],
   "source": [
    "query = \"친구 승진 선물로 뭐가 좋을까?\"\n",
    "\n",
    "test_index_inputs = enc_processing([query], char2idx)    \n",
    "predict_tokens = model.inference(test_index_inputs)\n",
    "print(predict_tokens)\n",
    "\n",
    "print(' '.join([idx2char[str(t)] for t in predict_tokens]))"
   ]
  }
 ],
 "metadata": {
  "kernelspec": {
   "display_name": "Python 3",
   "language": "python",
   "name": "python3"
  },
  "language_info": {
   "codemirror_mode": {
    "name": "ipython",
    "version": 3
   },
   "file_extension": ".py",
   "mimetype": "text/x-python",
   "name": "python",
   "nbconvert_exporter": "python",
   "pygments_lexer": "ipython3",
   "version": "3.6.9"
  }
 },
 "nbformat": 4,
 "nbformat_minor": 4
}
