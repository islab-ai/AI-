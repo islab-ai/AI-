{
 "cells": [
  {
   "cell_type": "code",
   "execution_count": 1,
   "metadata": {},
   "outputs": [],
   "source": [
    "from preprocess import *"
   ]
  },
  {
   "cell_type": "code",
   "execution_count": 2,
   "metadata": {},
   "outputs": [],
   "source": [
    "PATH = 'data_in/ChatBotData.csv_short'\n",
    "VOCAB_PATH = 'data_in/vocabulary.txt'"
   ]
  },
  {
   "cell_type": "code",
   "execution_count": 3,
   "metadata": {},
   "outputs": [],
   "source": [
    "inputs, outputs = load_data(PATH)"
   ]
  },
  {
   "cell_type": "code",
   "execution_count": 4,
   "metadata": {},
   "outputs": [
    {
     "data": {
      "text/plain": [
       "['가끔 궁금해', '가끔 뭐하는지 궁금해', '가끔은 혼자인게 좋다', '가난한 자의 설움', '가만 있어도 땀난다']"
      ]
     },
     "execution_count": 4,
     "metadata": {},
     "output_type": "execute_result"
    }
   ],
   "source": [
    "inputs[:5]"
   ]
  },
  {
   "cell_type": "code",
   "execution_count": 5,
   "metadata": {},
   "outputs": [
    {
     "data": {
      "text/plain": [
       "['그 사람도 그럴 거예요.', '그 사람도 그럴 거예요.', '혼자를 즐기세요.', '돈은 다시 들어올 거예요.', '땀을 식혀주세요.']"
      ]
     },
     "execution_count": 5,
     "metadata": {},
     "output_type": "execute_result"
    }
   ],
   "source": [
    "outputs[:5]"
   ]
  },
  {
   "cell_type": "code",
   "execution_count": 6,
   "metadata": {},
   "outputs": [],
   "source": [
    "char2idx, idx2char, vocab_size = load_vocabulary(PATH, VOCAB_PATH)"
   ]
  },
  {
   "cell_type": "code",
   "execution_count": 7,
   "metadata": {},
   "outputs": [
    {
     "data": {
      "text/plain": [
       "{'<PAD>': 0,\n",
       " '<SOS>': 1,\n",
       " '<EOS>': 2,\n",
       " '<UNK>': 3,\n",
       " '운동': 4,\n",
       " '보인다': 5,\n",
       " '혼자를': 6,\n",
       " '비싼데': 7,\n",
       " '좀': 8,\n",
       " '나갔어': 9,\n",
       " '돌아가서': 10,\n",
       " '해': 11,\n",
       " '자의': 12,\n",
       " '또': 13,\n",
       " '사람도': 14,\n",
       " '걸리겠어': 15,\n",
       " '운동을': 16,\n",
       " '나왔다': 17,\n",
       " '줄까': 18,\n",
       " '오늘': 19,\n",
       " '게': 20,\n",
       " '데려가고': 21,\n",
       " '있어도': 22,\n",
       " '새출발': 23,\n",
       " '생각해보세요': 24,\n",
       " '따라': 25,\n",
       " '마음을': 26,\n",
       " '함께': 27,\n",
       " '믿어줘': 28,\n",
       " '생일인데': 29,\n",
       " '갔어': 30,\n",
       " '잘생겼어': 31,\n",
       " '평소에': 32,\n",
       " '운동만': 33,\n",
       " '끄고': 34,\n",
       " '들어올': 35,\n",
       " '망함': 36,\n",
       " '가끔': 37,\n",
       " '가스비': 38,\n",
       " '나': 39,\n",
       " '달에는': 40,\n",
       " '결단은': 41,\n",
       " '가난한': 42,\n",
       " '적당히': 43,\n",
       " '전생에': 44,\n",
       " '설움': 45,\n",
       " '때까지': 46,\n",
       " '필요했던': 47,\n",
       " '돈은': 48,\n",
       " '감기': 49,\n",
       " '싶어': 50,\n",
       " '빠를수록': 51,\n",
       " '좋아요': 52,\n",
       " '같아': 53,\n",
       " '그럴': 54,\n",
       " '켜놓고': 55,\n",
       " '필요한': 56,\n",
       " '설득해보세요': 57,\n",
       " '쫄딱': 58,\n",
       " '나온거': 59,\n",
       " '좋을까': 60,\n",
       " '궁금해': 61,\n",
       " '어서': 62,\n",
       " '더': 63,\n",
       " '즐기세요': 64,\n",
       " '열': 65,\n",
       " '잊고': 66,\n",
       " '켜고': 67,\n",
       " '교회': 68,\n",
       " '식혀주세요': 69,\n",
       " '너무': 70,\n",
       " '선물로': 71,\n",
       " '나오세요': 72,\n",
       " '많이': 73,\n",
       " '좋다': 74,\n",
       " '집에': 75,\n",
       " '바빠': 76,\n",
       " '구하셨나요': 77,\n",
       " '가끔은': 78,\n",
       " '훈훈해': 79,\n",
       " '하세요': 80,\n",
       " '나라를': 81,\n",
       " '가만': 82,\n",
       " '다시': 83,\n",
       " '가상화폐': 84,\n",
       " '거예요': 85,\n",
       " '거짓말': 86,\n",
       " '남자친구가': 87,\n",
       " '그': 88,\n",
       " '절약해봐요': 89,\n",
       " '질린다': 90,\n",
       " '해보세요': 91,\n",
       " '것': 92,\n",
       " '같아요': 93,\n",
       " '빨리': 94,\n",
       " '남자친구': 95,\n",
       " '땀을': 96,\n",
       " '가스불': 97,\n",
       " '땀난다': 98,\n",
       " '뭘': 99,\n",
       " '뭐가': 100,\n",
       " '마세요': 101,\n",
       " '뭐하는지': 102,\n",
       " '승진': 103,\n",
       " '안': 104,\n",
       " '집착하지': 105,\n",
       " '따뜻하게': 106,\n",
       " '다음': 107,\n",
       " '사세요': 108,\n",
       " '좋을': 109,\n",
       " '혼자인게': 110}"
      ]
     },
     "execution_count": 7,
     "metadata": {},
     "output_type": "execute_result"
    }
   ],
   "source": [
    "char2idx"
   ]
  },
  {
   "cell_type": "code",
   "execution_count": 8,
   "metadata": {},
   "outputs": [
    {
     "data": {
      "text/plain": [
       "{0: '<PAD>',\n",
       " 1: '<SOS>',\n",
       " 2: '<EOS>',\n",
       " 3: '<UNK>',\n",
       " 4: '운동',\n",
       " 5: '보인다',\n",
       " 6: '혼자를',\n",
       " 7: '비싼데',\n",
       " 8: '좀',\n",
       " 9: '나갔어',\n",
       " 10: '돌아가서',\n",
       " 11: '해',\n",
       " 12: '자의',\n",
       " 13: '또',\n",
       " 14: '사람도',\n",
       " 15: '걸리겠어',\n",
       " 16: '운동을',\n",
       " 17: '나왔다',\n",
       " 18: '줄까',\n",
       " 19: '오늘',\n",
       " 20: '게',\n",
       " 21: '데려가고',\n",
       " 22: '있어도',\n",
       " 23: '새출발',\n",
       " 24: '생각해보세요',\n",
       " 25: '따라',\n",
       " 26: '마음을',\n",
       " 27: '함께',\n",
       " 28: '믿어줘',\n",
       " 29: '생일인데',\n",
       " 30: '갔어',\n",
       " 31: '잘생겼어',\n",
       " 32: '평소에',\n",
       " 33: '운동만',\n",
       " 34: '끄고',\n",
       " 35: '들어올',\n",
       " 36: '망함',\n",
       " 37: '가끔',\n",
       " 38: '가스비',\n",
       " 39: '나',\n",
       " 40: '달에는',\n",
       " 41: '결단은',\n",
       " 42: '가난한',\n",
       " 43: '적당히',\n",
       " 44: '전생에',\n",
       " 45: '설움',\n",
       " 46: '때까지',\n",
       " 47: '필요했던',\n",
       " 48: '돈은',\n",
       " 49: '감기',\n",
       " 50: '싶어',\n",
       " 51: '빠를수록',\n",
       " 52: '좋아요',\n",
       " 53: '같아',\n",
       " 54: '그럴',\n",
       " 55: '켜놓고',\n",
       " 56: '필요한',\n",
       " 57: '설득해보세요',\n",
       " 58: '쫄딱',\n",
       " 59: '나온거',\n",
       " 60: '좋을까',\n",
       " 61: '궁금해',\n",
       " 62: '어서',\n",
       " 63: '더',\n",
       " 64: '즐기세요',\n",
       " 65: '열',\n",
       " 66: '잊고',\n",
       " 67: '켜고',\n",
       " 68: '교회',\n",
       " 69: '식혀주세요',\n",
       " 70: '너무',\n",
       " 71: '선물로',\n",
       " 72: '나오세요',\n",
       " 73: '많이',\n",
       " 74: '좋다',\n",
       " 75: '집에',\n",
       " 76: '바빠',\n",
       " 77: '구하셨나요',\n",
       " 78: '가끔은',\n",
       " 79: '훈훈해',\n",
       " 80: '하세요',\n",
       " 81: '나라를',\n",
       " 82: '가만',\n",
       " 83: '다시',\n",
       " 84: '가상화폐',\n",
       " 85: '거예요',\n",
       " 86: '거짓말',\n",
       " 87: '남자친구가',\n",
       " 88: '그',\n",
       " 89: '절약해봐요',\n",
       " 90: '질린다',\n",
       " 91: '해보세요',\n",
       " 92: '것',\n",
       " 93: '같아요',\n",
       " 94: '빨리',\n",
       " 95: '남자친구',\n",
       " 96: '땀을',\n",
       " 97: '가스불',\n",
       " 98: '땀난다',\n",
       " 99: '뭘',\n",
       " 100: '뭐가',\n",
       " 101: '마세요',\n",
       " 102: '뭐하는지',\n",
       " 103: '승진',\n",
       " 104: '안',\n",
       " 105: '집착하지',\n",
       " 106: '따뜻하게',\n",
       " 107: '다음',\n",
       " 108: '사세요',\n",
       " 109: '좋을',\n",
       " 110: '혼자인게'}"
      ]
     },
     "execution_count": 8,
     "metadata": {},
     "output_type": "execute_result"
    }
   ],
   "source": [
    "idx2char"
   ]
  },
  {
   "cell_type": "code",
   "execution_count": 9,
   "metadata": {},
   "outputs": [],
   "source": [
    "index_inputs = enc_processing(inputs, char2idx)\n",
    "index_outputs = dec_output_processing(outputs, char2idx)\n",
    "index_targets = dec_target_processing(outputs, char2idx)"
   ]
  },
  {
   "cell_type": "code",
   "execution_count": 10,
   "metadata": {},
   "outputs": [],
   "source": [
    "data_configs = {}\n",
    "data_configs['char2idx'] = char2idx\n",
    "data_configs['idx2char'] = idx2char\n",
    "data_configs['vocab_size'] = vocab_size\n",
    "data_configs['pad_symbol'] = PAD\n",
    "data_configs['sos_symbol'] = SOS\n",
    "data_configs['eos_symbol'] = EOS\n",
    "data_configs['unk_symbol'] = UNK"
   ]
  },
  {
   "cell_type": "code",
   "execution_count": 11,
   "metadata": {},
   "outputs": [],
   "source": [
    "DATA_IN_PATH = './data_in/'\n",
    "TRAIN_INPUTS = 'train_inputs.npy'\n",
    "TRAIN_OUTPUTS = 'train_outputs.npy'\n",
    "TRAIN_TARGETS = 'train_targets.npy'\n",
    "DATA_CONFIGS = 'data_configs.json'\n",
    "\n",
    "np.save(open(DATA_IN_PATH + TRAIN_INPUTS, 'wb'), index_inputs)\n",
    "np.save(open(DATA_IN_PATH + TRAIN_OUTPUTS , 'wb'), index_outputs)\n",
    "np.save(open(DATA_IN_PATH + TRAIN_TARGETS , 'wb'), index_targets)\n",
    "\n",
    "json.dump(data_configs, open(DATA_IN_PATH + DATA_CONFIGS, 'w'))"
   ]
  },
  {
   "cell_type": "code",
   "execution_count": 17,
   "metadata": {},
   "outputs": [
    {
     "data": {
      "text/plain": [
       "['가끔 궁금해', '가끔 뭐하는지 궁금해', '가끔은 혼자인게 좋다']"
      ]
     },
     "execution_count": 17,
     "metadata": {},
     "output_type": "execute_result"
    }
   ],
   "source": [
    "inputs[:3]"
   ]
  },
  {
   "cell_type": "code",
   "execution_count": 19,
   "metadata": {},
   "outputs": [
    {
     "data": {
      "text/plain": [
       "array([[ 37,  61,   0,   0,   0,   0,   0,   0,   0,   0,   0,   0,   0,\n",
       "          0,   0,   0,   0,   0,   0,   0,   0,   0,   0,   0,   0],\n",
       "       [ 37, 102,  61,   0,   0,   0,   0,   0,   0,   0,   0,   0,   0,\n",
       "          0,   0,   0,   0,   0,   0,   0,   0,   0,   0,   0,   0],\n",
       "       [ 78, 110,  74,   0,   0,   0,   0,   0,   0,   0,   0,   0,   0,\n",
       "          0,   0,   0,   0,   0,   0,   0,   0,   0,   0,   0,   0]])"
      ]
     },
     "execution_count": 19,
     "metadata": {},
     "output_type": "execute_result"
    }
   ],
   "source": [
    "index_inputs[:3]"
   ]
  },
  {
   "cell_type": "code",
   "execution_count": 20,
   "metadata": {},
   "outputs": [
    {
     "data": {
      "text/plain": [
       "['그 사람도 그럴 거예요.', '그 사람도 그럴 거예요.', '혼자를 즐기세요.']"
      ]
     },
     "execution_count": 20,
     "metadata": {},
     "output_type": "execute_result"
    }
   ],
   "source": [
    "outputs[:3]"
   ]
  },
  {
   "cell_type": "code",
   "execution_count": 21,
   "metadata": {},
   "outputs": [
    {
     "data": {
      "text/plain": [
       "array([[ 1, 88, 14, 54, 85,  0,  0,  0,  0,  0,  0,  0,  0,  0,  0,  0,\n",
       "         0,  0,  0,  0,  0,  0,  0,  0,  0],\n",
       "       [ 1, 88, 14, 54, 85,  0,  0,  0,  0,  0,  0,  0,  0,  0,  0,  0,\n",
       "         0,  0,  0,  0,  0,  0,  0,  0,  0],\n",
       "       [ 1,  6, 64,  0,  0,  0,  0,  0,  0,  0,  0,  0,  0,  0,  0,  0,\n",
       "         0,  0,  0,  0,  0,  0,  0,  0,  0]])"
      ]
     },
     "execution_count": 21,
     "metadata": {},
     "output_type": "execute_result"
    }
   ],
   "source": [
    "index_outputs[:3]"
   ]
  },
  {
   "cell_type": "code",
   "execution_count": 23,
   "metadata": {},
   "outputs": [
    {
     "data": {
      "text/plain": [
       "array([[88, 14, 54, 85,  2,  0,  0,  0,  0,  0,  0,  0,  0,  0,  0,  0,\n",
       "         0,  0,  0,  0,  0,  0,  0,  0,  0],\n",
       "       [88, 14, 54, 85,  2,  0,  0,  0,  0,  0,  0,  0,  0,  0,  0,  0,\n",
       "         0,  0,  0,  0,  0,  0,  0,  0,  0],\n",
       "       [ 6, 64,  2,  0,  0,  0,  0,  0,  0,  0,  0,  0,  0,  0,  0,  0,\n",
       "         0,  0,  0,  0,  0,  0,  0,  0,  0]])"
      ]
     },
     "execution_count": 23,
     "metadata": {},
     "output_type": "execute_result"
    }
   ],
   "source": [
    "index_targets[:3]"
   ]
  },
  {
   "cell_type": "code",
   "execution_count": null,
   "metadata": {},
   "outputs": [],
   "source": []
  }
 ],
 "metadata": {
  "kernelspec": {
   "display_name": "Python 3",
   "language": "python",
   "name": "python3"
  },
  "language_info": {
   "codemirror_mode": {
    "name": "ipython",
    "version": 3
   },
   "file_extension": ".py",
   "mimetype": "text/x-python",
   "name": "python",
   "nbconvert_exporter": "python",
   "pygments_lexer": "ipython3",
   "version": "3.7.3"
  }
 },
 "nbformat": 4,
 "nbformat_minor": 4
}
